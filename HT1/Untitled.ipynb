{
 "cells": [
  {
   "cell_type": "markdown",
   "metadata": {},
   "source": [
    "# Методы нулевого порядка"
   ]
  },
  {
   "cell_type": "code",
   "execution_count": 2,
   "metadata": {},
   "outputs": [],
   "source": [
    "import numpy as np\n",
    "import numpy.linalg as lg"
   ]
  },
  {
   "cell_type": "markdown",
   "metadata": {},
   "source": [
    "## Данная функция ( + мои тестовые)"
   ]
  },
  {
   "cell_type": "code",
   "execution_count": 24,
   "metadata": {},
   "outputs": [],
   "source": [
    "def fx(x):\n",
    "    return 0.5 * x ** 7 - x ** 3 + 0.5 * x ** 2 - x\n",
    "\n",
    "def gx(x):\n",
    "    return x ** 2\n",
    "\n",
    "def hx(x):\n",
    "    return 0.5 * x ** 6 - x ** 3 + 0.5 * x ** 2 - x\n"
   ]
  },
  {
   "cell_type": "markdown",
   "metadata": {},
   "source": [
    "## Метод пассивного поиска"
   ]
  },
  {
   "cell_type": "code",
   "execution_count": 25,
   "metadata": {},
   "outputs": [],
   "source": [
    "def passive_search(f, a, b, e):\n",
    "    \n",
    "    x = np.arange(a,b,e)\n",
    "    y = f(x)\n",
    "\n",
    "    min_i = 0\n",
    "    for i in range(len(y)):\n",
    "        if y[min_i] > y[i]:\n",
    "            min_i = i\n",
    "    min_x = x[min_i]\n",
    "    min_y = y[min_i]\n",
    "    \n",
    "    return min_x"
   ]
  },
  {
   "cell_type": "code",
   "execution_count": 26,
   "metadata": {},
   "outputs": [
    {
     "name": "stdout",
     "output_type": "stream",
     "text": [
      "1.0 -1.0\n",
      "8.881784197001252e-16 7.888609052210118e-31\n",
      "1.0000000000000018 -1.0\n"
     ]
    }
   ],
   "source": [
    "a = 1\n",
    "b = 1.5\n",
    "e = 0.05\n",
    "x_min = passive_search(fx,a,b,e)\n",
    "print(x_min, fx(x_min))\n",
    "\n",
    "a = -1\n",
    "b = 1.5\n",
    "e = 0.05\n",
    "x_min = passive_search(gx,a,b,e)\n",
    "print(x_min, gx(x_min))\n",
    "\n",
    "a = -1\n",
    "b = 1.5\n",
    "e = 0.05\n",
    "x_min = passive_search(hx,a,b,e)\n",
    "print(x_min, hx(x_min))"
   ]
  },
  {
   "cell_type": "markdown",
   "metadata": {},
   "source": [
    "## Метод дихотомии "
   ]
  },
  {
   "cell_type": "code",
   "execution_count": 27,
   "metadata": {},
   "outputs": [],
   "source": [
    "def dichotomy(f, a_, b_, e, s):\n",
    "    a = a_\n",
    "    b = b_\n",
    "    x = a\n",
    "    while (b - a) >= 2 * e:\n",
    "        x = (a + b) / 2\n",
    "        xp = x + s / 2\n",
    "        xm = x - s / 2\n",
    "\n",
    "        yp = f(xp)\n",
    "        ym = f(xm)\n",
    "        if(yp > ym):\n",
    "            b = xp\n",
    "        else:\n",
    "            a = xm\n",
    "    return x"
   ]
  },
  {
   "cell_type": "code",
   "execution_count": 28,
   "metadata": {},
   "outputs": [
    {
     "name": "stdout",
     "output_type": "stream",
     "text": [
      "1.0531249999999999 -0.9482415697256424\n",
      "-0.017968749999999988 0.00032287597656249957\n",
      "0.97734375 -0.997536179633431\n"
     ]
    }
   ],
   "source": [
    "a = 1\n",
    "b = 1.5\n",
    "e = 0.05\n",
    "s = e\n",
    "x_min = dichotomy(fx, a, b, e, s)\n",
    "print(x_min, fx(x_min))\n",
    "\n",
    "a = -1\n",
    "b = 1.5\n",
    "e = 0.05\n",
    "x_min = dichotomy(gx, a, b, e, s)\n",
    "print(x_min, gx(x_min))\n",
    "\n",
    "a = -1\n",
    "b = 1.5\n",
    "e = 0.05\n",
    "x_min = dichotomy(hx, a, b, e, s)\n",
    "print(x_min, hx(x_min))"
   ]
  },
  {
   "cell_type": "markdown",
   "metadata": {},
   "source": [
    "## Метод золотого сечения"
   ]
  },
  {
   "cell_type": "code",
   "execution_count": 33,
   "metadata": {},
   "outputs": [],
   "source": [
    "def golden_section(f, a_, b_, e):\n",
    "    a = a_\n",
    "    b = b_\n",
    "    x = a\n",
    "    while (b - a) >= 2 * e:\n",
    "        c = (3 - 5 ** 0.5 ) / 2 * (b - a) + a\n",
    "        d = (5 ** 0.5 - 1) / 2 * (b - a) + a\n",
    "        yc = f(c)\n",
    "        yd = f(d)\n",
    "        if(yc < yd):\n",
    "            b = d\n",
    "        else:\n",
    "            a = c\n",
    "    return x"
   ]
  },
  {
   "cell_type": "code",
   "execution_count": 34,
   "metadata": {},
   "outputs": [
    {
     "name": "stdout",
     "output_type": "stream",
     "text": [
      "1 -1.0\n",
      "-1 1\n",
      "-1 3.0\n"
     ]
    }
   ],
   "source": [
    "a = 1\n",
    "b = 1.5\n",
    "e = 0.05\n",
    "s = e\n",
    "x_min = golden_section(fx, a, b, e)\n",
    "print(x_min, fx(x_min))\n",
    "\n",
    "a = -1\n",
    "b = 1.5\n",
    "e = 0.05\n",
    "x_min = golden_section(gx, a, b, e)\n",
    "print(x_min, gx(x_min))\n",
    "\n",
    "a = -1\n",
    "b = 1.5\n",
    "e = 0.05\n",
    "x_min = golden_section(hx, a, b, e)\n",
    "print(x_min, hx(x_min))"
   ]
  },
  {
   "cell_type": "markdown",
   "metadata": {},
   "source": [
    "## Метод чисел Фибоначчи"
   ]
  },
  {
   "cell_type": "code",
   "execution_count": null,
   "metadata": {},
   "outputs": [],
   "source": []
  }
 ],
 "metadata": {
  "kernelspec": {
   "display_name": "Python 3",
   "language": "python",
   "name": "python3"
  },
  "language_info": {
   "codemirror_mode": {
    "name": "ipython",
    "version": 3
   },
   "file_extension": ".py",
   "mimetype": "text/x-python",
   "name": "python",
   "nbconvert_exporter": "python",
   "pygments_lexer": "ipython3",
   "version": "3.8.3"
  }
 },
 "nbformat": 4,
 "nbformat_minor": 4
}
