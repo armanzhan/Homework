{
 "cells": [
  {
   "cell_type": "markdown",
   "metadata": {},
   "source": [
    "# Методы нулевого порядка"
   ]
  },
  {
   "cell_type": "code",
   "execution_count": 1,
   "metadata": {},
   "outputs": [],
   "source": [
    "import numpy as np\n",
    "import numpy.linalg as lg"
   ]
  },
  {
   "cell_type": "markdown",
   "metadata": {},
   "source": [
    "## Данная функция ( + мои тестовые)"
   ]
  },
  {
   "cell_type": "code",
   "execution_count": 2,
   "metadata": {},
   "outputs": [],
   "source": [
    "def fx(x):\n",
    "    return 0.5 * x ** 7 - x ** 3 + 0.5 * x ** 2 - x\n",
    "\n",
    "def gx(x):\n",
    "    return x ** 2\n",
    "\n",
    "def hx(x):\n",
    "    return 0.5 * x ** 6 - x ** 3 + 0.5 * x ** 2 - x\n"
   ]
  },
  {
   "cell_type": "markdown",
   "metadata": {},
   "source": [
    "## Метод пассивного поиска"
   ]
  },
  {
   "cell_type": "code",
   "execution_count": 3,
   "metadata": {},
   "outputs": [],
   "source": [
    "def passive_search(f, a, b, e):\n",
    "    \n",
    "    x = np.arange(a,b,e)\n",
    "    y = f(x)\n",
    "\n",
    "    min_i = 0\n",
    "    for i in range(len(y)):\n",
    "        if y[min_i] > y[i]:\n",
    "            min_i = i\n",
    "    min_x = x[min_i]\n",
    "    min_y = y[min_i]\n",
    "    \n",
    "    return min_x"
   ]
  },
  {
   "cell_type": "code",
   "execution_count": 4,
   "metadata": {},
   "outputs": [
    {
     "name": "stdout",
     "output_type": "stream",
     "text": [
      "1.0 -1.0\n",
      "8.881784197001252e-16 7.888609052210118e-31\n",
      "1.0000000000000018 -1.0\n"
     ]
    }
   ],
   "source": [
    "a = 1\n",
    "b = 1.5\n",
    "e = 0.05\n",
    "x_min = passive_search(fx,a,b,e)\n",
    "print(x_min, fx(x_min))\n",
    "\n",
    "a = -1\n",
    "b = 1.5\n",
    "e = 0.05\n",
    "x_min = passive_search(gx,a,b,e)\n",
    "print(x_min, gx(x_min))"
   ]
  },
  {
   "cell_type": "markdown",
   "metadata": {},
   "source": [
    "## Метод дихотомии "
   ]
  },
  {
   "cell_type": "code",
   "execution_count": 5,
   "metadata": {},
   "outputs": [],
   "source": [
    "def dichotomy(f, a_, b_, e, s):\n",
    "    a = a_\n",
    "    b = b_\n",
    "    x = a\n",
    "    n = 0\n",
    "    while (b - a) >= 2 * e:\n",
    "        n+=1\n",
    "        x = (a + b) / 2\n",
    "        xp = x + s / 2\n",
    "        xm = x - s / 2\n",
    "\n",
    "        yp = f(xp)\n",
    "        ym = f(xm)\n",
    "        if(yp > ym):\n",
    "            b = xp\n",
    "        else:\n",
    "            a = xm\n",
    "            \n",
    "    if (n%10 == 0) or (20 > n > 4) or ( n % 10 > 4):\n",
    "        print('сделано ', n, 'шагов')\n",
    "    elif(5 > n % 10 > 1):\n",
    "        print('сделано ', n, 'шага')\n",
    "    elif (n % 10 == 1):\n",
    "        print('сделан ', n, 'шаг')\n",
    "    return x"
   ]
  },
  {
   "cell_type": "code",
   "execution_count": 6,
   "metadata": {},
   "outputs": [
    {
     "name": "stdout",
     "output_type": "stream",
     "text": [
      "сделано  4 шага\n",
      "x_min    =  1.0531249999999999\n",
      "fx(xmin) =  -0.9482415697256424\n",
      "---------------------------\n",
      "сделано  6 шагов\n",
      "x_min    =  -0.017968749999999988\n",
      "fx(xmin) =  0.00032287597656249957\n",
      "---------------------------\n"
     ]
    }
   ],
   "source": [
    "a = 1\n",
    "b = 1.5\n",
    "e = 0.05\n",
    "s = e\n",
    "x_min = dichotomy(fx, a, b, e, s)\n",
    "print('x_min    = ', x_min)\n",
    "print('fx(xmin) = ', fx(x_min))\n",
    "print('---------------------------')\n",
    "\n",
    "a = -1\n",
    "b = 1.5\n",
    "e = 0.05\n",
    "x_min = dichotomy(gx, a, b, e, s)\n",
    "print('x_min    = ', x_min)\n",
    "print('fx(xmin) = ', gx(x_min))\n",
    "print('---------------------------')"
   ]
  },
  {
   "cell_type": "markdown",
   "metadata": {},
   "source": [
    "## Метод золотого сечения"
   ]
  },
  {
   "cell_type": "code",
   "execution_count": 9,
   "metadata": {},
   "outputs": [],
   "source": [
    "def golden_section(f, a, b, e):\n",
    "    n = 0\n",
    "    x = a\n",
    "    c = (3 - 5 ** 0.5 ) / 2 * (b - a) + a\n",
    "    d = (5 ** 0.5 - 1) / 2 * (b - a) + a\n",
    "    while (b - a) >= 2 * e:\n",
    "        n+=1\n",
    "        yc = f(c)\n",
    "        yd = f(d)\n",
    "        if(yc < yd):\n",
    "            b = d\n",
    "            d = c\n",
    "            c = (3 - 5 ** 0.5 ) / 2 * (b - a) + a\n",
    "        else:\n",
    "            a = c\n",
    "            c = d\n",
    "            d = (5 ** 0.5 - 1) / 2 * (b - a) + a\n",
    "    \n",
    "    \n",
    "    if (n%10 == 0) or (20 > n > 4) or ( n % 10 > 4):\n",
    "        print('сделано ', n, 'шагов')\n",
    "    elif(5 > n % 10 > 1):\n",
    "        print('сделано ', n, 'шага')\n",
    "    elif (n % 10 == 1):\n",
    "        print('сделан ', n, 'шаг')\n",
    "    return a"
   ]
  },
  {
   "cell_type": "code",
   "execution_count": 11,
   "metadata": {},
   "outputs": [
    {
     "name": "stdout",
     "output_type": "stream",
     "text": [
      "---------------------------\n",
      "сделано  4 шага\n",
      "x_min    =  1\n",
      "fx(xmin) =  -1.0\n",
      "---------------------------\n",
      "---------------------------\n",
      "сделано  7 шагов\n",
      "x_min    =  -0.045084971874737256\n",
      "gx(xmin) =  0.0020326546889458496\n",
      "---------------------------\n"
     ]
    }
   ],
   "source": [
    "a = 1\n",
    "b = 1.5\n",
    "e = 0.05\n",
    "s = e\n",
    "print('---------------------------')\n",
    "x_min = golden_section(fx, a, b, e)\n",
    "\n",
    "print('x_min    = ', x_min)\n",
    "print('fx(xmin) = ', fx(x_min))\n",
    "print('---------------------------')\n",
    "\n",
    "a = -1\n",
    "b = 1.5\n",
    "e = 0.05\n",
    "print('---------------------------')\n",
    "x_min = golden_section(gx, a, b, e)\n",
    "\n",
    "print('x_min    = ', x_min)\n",
    "print('gx(xmin) = ', gx(x_min))\n",
    "print('---------------------------')"
   ]
  }
 ],
 "metadata": {
  "kernelspec": {
   "display_name": "Python 3",
   "language": "python",
   "name": "python3"
  },
  "language_info": {
   "codemirror_mode": {
    "name": "ipython",
    "version": 3
   },
   "file_extension": ".py",
   "mimetype": "text/x-python",
   "name": "python",
   "nbconvert_exporter": "python",
   "pygments_lexer": "ipython3",
   "version": "3.8.3"
  }
 },
 "nbformat": 4,
 "nbformat_minor": 4
}
