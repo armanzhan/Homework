{
 "cells": [
  {
   "cell_type": "markdown",
   "metadata": {},
   "source": [
    "# Ускоренные градиентные методы"
   ]
  },
  {
   "cell_type": "code",
   "execution_count": 4,
   "metadata": {},
   "outputs": [],
   "source": [
    "import numpy as np\n",
    "import numpy.linalg as lg"
   ]
  },
  {
   "cell_type": "markdown",
   "metadata": {},
   "source": [
    "### Функция и ее градиент"
   ]
  },
  {
   "cell_type": "code",
   "execution_count": 5,
   "metadata": {},
   "outputs": [],
   "source": [
    "def fx(x): \n",
    "    return np.exp(sum(np.square(x)))\n",
    "def gradfx(x):\n",
    "    return fx(x) * (2*x) \n",
    "def grad2fx(x):\n",
    "    return fx(x) * 2 * (np.eye(len(x)) + 2 * x.reshape(len(x),1) * x)\n",
    "\n",
    "def hx(x): \n",
    "    x1 = x\n",
    "    x1[0] = x[0]/10\n",
    "    return np.exp(sum(np.square(x1)))\n",
    "def gradhx(x_):\n",
    "    x = x_\n",
    "    x[0] = x[0]/10\n",
    "    return fx(x) * (2*x) \n",
    "def grad2hx(x_):\n",
    "    x = x_\n",
    "    x[0] = x[0]/10\n",
    "    return fx(x) * 2 * (np.eye(len(x)) + 2 * x.reshape(len(x),1) * x)\n",
    "\n",
    "#альтернативная ДВУМЕРНАЯ функция ( для проверки)\n",
    "def gx(x):\n",
    "    k = np.array([3, 1])\n",
    "    return sum(np.square(k * x))\n",
    "def gradgx(x):\n",
    "    k = np.array([18, 2])\n",
    "    return x * k\n",
    "def grad2gx(x):\n",
    "    return np.array([[18 ,0],[0, 2]])\n"
   ]
  },
  {
   "cell_type": "markdown",
   "metadata": {},
   "source": [
    "## Вспомогательные функции"
   ]
  },
  {
   "cell_type": "markdown",
   "metadata": {},
   "source": [
    "### \"Умные\" производные "
   ]
  },
  {
   "cell_type": "code",
   "execution_count": 6,
   "metadata": {},
   "outputs": [],
   "source": [
    "def func(f, x0, gradx0):\n",
    "    def fun(a):\n",
    "        return f((x0 -  gradx0 * a))\n",
    "    return fun\n",
    "\n",
    "def der1_e(f_, x0, a, gradx0, e):\n",
    "    e = e / 2\n",
    "    f_(x0)\n",
    "    f = func(f_, x0, gradx0)\n",
    "    def der(a):\n",
    "        return (f(a + e) - f(a - e)) / (e * 2)\n",
    "    return der\n",
    "\n",
    "def der2_e(f_, x0, a, gradx0, e):\n",
    "    e = e / 2\n",
    "    df = der1_e(f_, x0, a, gradx0, e / 5)\n",
    "    def der2(a):\n",
    "        return (df(a + e) - df(a - e)) / ( e * 2 )\n",
    "    return der2"
   ]
  },
  {
   "cell_type": "markdown",
   "metadata": {},
   "source": [
    "### геометрический метод поиска альфа основанный на ортогональности градиентов "
   ]
  },
  {
   "cell_type": "code",
   "execution_count": 7,
   "metadata": {},
   "outputs": [],
   "source": [
    "def mygeom(x0, e, grad):\n",
    "    #print('    start mygeom')\n",
    "    a = 0\n",
    "    scalar = abs(sum(grad(x0)*grad(x0 - a * grad(x0))))\n",
    "    while scalar > e: \n",
    "        a+=e\n",
    "        scalar1 = scalar\n",
    "        scalar = abs(sum(grad(x0)*grad(x0 - a * grad(x0))))\n",
    "        #print('    a = ', a)\n",
    "        #print('    scalar = ', scalar)\n",
    "        if (scalar1 < scalar):       \n",
    "            break\n",
    "            \n",
    "    #print('    end mygeom')\n",
    "    return a"
   ]
  },
  {
   "cell_type": "markdown",
   "metadata": {},
   "source": [
    "# Ускоренный градиентный метод p-го порядка"
   ]
  },
  {
   "cell_type": "code",
   "execution_count": 8,
   "metadata": {},
   "outputs": [],
   "source": [
    "def grad_descent_a1(f, x0, x1, e):\n",
    "    if(f(x0)-f(x1) > 0):\n",
    "        vec = x0 - x1\n",
    "    else:\n",
    "        vec = x1 - x0\n",
    "    a = 0\n",
    "    df = der1_e(f, x0, a, x1-x0, e / 5)\n",
    "    while e < abs(df(a)):\n",
    "        d2f = der2_e(f, x0, a, x1-x0, e / 5)\n",
    "        a = a - df(a)/d2f(a)\n",
    "        df = der1_e(f, x0, a, x1-x0, e / 5)\n",
    "    return a\n",
    "\n",
    "def grad_descent_a2(f, x0, grad, e):\n",
    "    a = 0\n",
    "    df = der1_e(f, x0, a, grad, e / 5)\n",
    "    while e < abs(df(a)):\n",
    "        d2f = der2_e(f, x0, a, grad, e / 5)\n",
    "        a = a - df(a)/d2f(a)\n",
    "        df  = der1_e(f, x0, a, grad, e / 5)\n",
    "    return a"
   ]
  },
  {
   "cell_type": "code",
   "execution_count": 9,
   "metadata": {},
   "outputs": [],
   "source": [
    "def p_gradient(f, grad, x0, e):\n",
    "    n  = 0\n",
    "    n1 = 0;\n",
    "    while abs(lg.norm(grad(x0))) > e:\n",
    "        x1 = x0\n",
    "        \n",
    "        for k in range(len(x0)):\n",
    "            if(abs(lg.norm(grad(x1))) <= e):\n",
    "                x0 = x1\n",
    "                break\n",
    "            n+=1\n",
    "            a = grad_descent_a1(f, x0, grad(x0), e/10)\n",
    "            x1 = x1 - grad(x1) * a\n",
    "        if(abs(lg.norm(grad(x0))) <= e):\n",
    "                break\n",
    "                \n",
    "        a = grad_descent_a1(f, x0, x1, e / 10)\n",
    "        x0 = x0 -  (x1 - x0) * a\n",
    "        n1+=1\n",
    "        \n",
    "    print('сделано ', n, ' шагов')\n",
    "    print('сделано ', n1, ' скачков')\n",
    "    return x0"
   ]
  },
  {
   "cell_type": "markdown",
   "metadata": {},
   "source": [
    "## тесты"
   ]
  },
  {
   "cell_type": "code",
   "execution_count": 10,
   "metadata": {},
   "outputs": [
    {
     "name": "stdout",
     "output_type": "stream",
     "text": [
      "сделано  3  шагов\n",
      "сделано  1  скачков\n",
      "1.0 [4.83228657e-09 4.02690570e-09 4.02690570e-09]\n"
     ]
    },
    {
     "name": "stderr",
     "output_type": "stream",
     "text": [
      "<ipython-input-5-3bf15fb8ebee>:2: RuntimeWarning: overflow encountered in exp\n",
      "  return np.exp(sum(np.square(x)))\n"
     ]
    },
    {
     "data": {
      "text/plain": [
       "''"
      ]
     },
     "execution_count": 10,
     "metadata": {},
     "output_type": "execute_result"
    }
   ],
   "source": [
    "x0 = np.array([1.2, 1, 1])\n",
    "e = 0.05\n",
    "x_min = p_gradient(fx, gradfx, x0, e)\n",
    "print(round(fx(x_min), 3), x_min)\n",
    "''''''"
   ]
  },
  {
   "cell_type": "code",
   "execution_count": 12,
   "metadata": {
    "scrolled": true
   },
   "outputs": [
    {
     "ename": "KeyboardInterrupt",
     "evalue": "",
     "output_type": "error",
     "traceback": [
      "\u001b[1;31m---------------------------------------------------------------------------\u001b[0m",
      "\u001b[1;31mKeyboardInterrupt\u001b[0m                         Traceback (most recent call last)",
      "\u001b[1;32m<ipython-input-12-4cc55486d3f9>\u001b[0m in \u001b[0;36m<module>\u001b[1;34m\u001b[0m\n\u001b[0;32m      1\u001b[0m \u001b[0mx0\u001b[0m \u001b[1;33m=\u001b[0m \u001b[0mnp\u001b[0m\u001b[1;33m.\u001b[0m\u001b[0marray\u001b[0m\u001b[1;33m(\u001b[0m\u001b[1;33m[\u001b[0m\u001b[1;36m5\u001b[0m\u001b[1;33m,\u001b[0m\u001b[1;36m1\u001b[0m\u001b[1;33m]\u001b[0m\u001b[1;33m)\u001b[0m\u001b[1;33m\u001b[0m\u001b[1;33m\u001b[0m\u001b[0m\n\u001b[0;32m      2\u001b[0m \u001b[0me\u001b[0m \u001b[1;33m=\u001b[0m \u001b[1;36m0.05\u001b[0m\u001b[1;33m\u001b[0m\u001b[1;33m\u001b[0m\u001b[0m\n\u001b[1;32m----> 3\u001b[1;33m \u001b[0mx_min\u001b[0m \u001b[1;33m=\u001b[0m \u001b[0mp_gradient\u001b[0m\u001b[1;33m(\u001b[0m\u001b[0mgx\u001b[0m\u001b[1;33m,\u001b[0m \u001b[0mgradgx\u001b[0m\u001b[1;33m,\u001b[0m \u001b[0mx0\u001b[0m\u001b[1;33m,\u001b[0m \u001b[0me\u001b[0m\u001b[1;33m)\u001b[0m\u001b[1;33m\u001b[0m\u001b[1;33m\u001b[0m\u001b[0m\n\u001b[0m\u001b[0;32m      4\u001b[0m \u001b[0mprint\u001b[0m\u001b[1;33m(\u001b[0m\u001b[0mround\u001b[0m\u001b[1;33m(\u001b[0m\u001b[0mgx\u001b[0m\u001b[1;33m(\u001b[0m\u001b[0mx_min\u001b[0m\u001b[1;33m)\u001b[0m\u001b[1;33m,\u001b[0m \u001b[1;36m3\u001b[0m\u001b[1;33m)\u001b[0m\u001b[1;33m,\u001b[0m \u001b[0mx_min\u001b[0m\u001b[1;33m)\u001b[0m\u001b[1;33m\u001b[0m\u001b[1;33m\u001b[0m\u001b[0m\n\u001b[0;32m      5\u001b[0m \u001b[1;34m''''''\u001b[0m\u001b[1;33m\u001b[0m\u001b[1;33m\u001b[0m\u001b[0m\n",
      "\u001b[1;32m<ipython-input-9-c4be5609e99a>\u001b[0m in \u001b[0;36mp_gradient\u001b[1;34m(f, grad, x0, e)\u001b[0m\n\u001b[0;32m     10\u001b[0m                 \u001b[1;32mbreak\u001b[0m\u001b[1;33m\u001b[0m\u001b[1;33m\u001b[0m\u001b[0m\n\u001b[0;32m     11\u001b[0m             \u001b[0mn\u001b[0m\u001b[1;33m+=\u001b[0m\u001b[1;36m1\u001b[0m\u001b[1;33m\u001b[0m\u001b[1;33m\u001b[0m\u001b[0m\n\u001b[1;32m---> 12\u001b[1;33m             \u001b[0ma\u001b[0m \u001b[1;33m=\u001b[0m \u001b[0mgrad_descent_a1\u001b[0m\u001b[1;33m(\u001b[0m\u001b[0mf\u001b[0m\u001b[1;33m,\u001b[0m \u001b[0mx0\u001b[0m\u001b[1;33m,\u001b[0m \u001b[0mgrad\u001b[0m\u001b[1;33m(\u001b[0m\u001b[0mx0\u001b[0m\u001b[1;33m)\u001b[0m\u001b[1;33m,\u001b[0m \u001b[0me\u001b[0m\u001b[1;33m/\u001b[0m\u001b[1;36m10\u001b[0m\u001b[1;33m)\u001b[0m\u001b[1;33m\u001b[0m\u001b[1;33m\u001b[0m\u001b[0m\n\u001b[0m\u001b[0;32m     13\u001b[0m             \u001b[0mx1\u001b[0m \u001b[1;33m=\u001b[0m \u001b[0mx1\u001b[0m \u001b[1;33m-\u001b[0m \u001b[0mgrad\u001b[0m\u001b[1;33m(\u001b[0m\u001b[0mx1\u001b[0m\u001b[1;33m)\u001b[0m \u001b[1;33m*\u001b[0m \u001b[0ma\u001b[0m\u001b[1;33m\u001b[0m\u001b[1;33m\u001b[0m\u001b[0m\n\u001b[0;32m     14\u001b[0m         \u001b[1;32mif\u001b[0m\u001b[1;33m(\u001b[0m\u001b[0mabs\u001b[0m\u001b[1;33m(\u001b[0m\u001b[0mlg\u001b[0m\u001b[1;33m.\u001b[0m\u001b[0mnorm\u001b[0m\u001b[1;33m(\u001b[0m\u001b[0mgrad\u001b[0m\u001b[1;33m(\u001b[0m\u001b[0mx0\u001b[0m\u001b[1;33m)\u001b[0m\u001b[1;33m)\u001b[0m\u001b[1;33m)\u001b[0m \u001b[1;33m<=\u001b[0m \u001b[0me\u001b[0m\u001b[1;33m)\u001b[0m\u001b[1;33m:\u001b[0m\u001b[1;33m\u001b[0m\u001b[1;33m\u001b[0m\u001b[0m\n",
      "\u001b[1;32m<ipython-input-8-aca6cecb9cb2>\u001b[0m in \u001b[0;36mgrad_descent_a1\u001b[1;34m(f, x0, x1, e)\u001b[0m\n\u001b[0;32m      1\u001b[0m \u001b[1;32mdef\u001b[0m \u001b[0mgrad_descent_a1\u001b[0m\u001b[1;33m(\u001b[0m\u001b[0mf\u001b[0m\u001b[1;33m,\u001b[0m \u001b[0mx0\u001b[0m\u001b[1;33m,\u001b[0m \u001b[0mx1\u001b[0m\u001b[1;33m,\u001b[0m \u001b[0me\u001b[0m\u001b[1;33m)\u001b[0m\u001b[1;33m:\u001b[0m\u001b[1;33m\u001b[0m\u001b[1;33m\u001b[0m\u001b[0m\n\u001b[1;32m----> 2\u001b[1;33m     \u001b[1;32mif\u001b[0m\u001b[1;33m(\u001b[0m\u001b[0mf\u001b[0m\u001b[1;33m(\u001b[0m\u001b[0mx0\u001b[0m\u001b[1;33m)\u001b[0m\u001b[1;33m-\u001b[0m\u001b[0mf\u001b[0m\u001b[1;33m(\u001b[0m\u001b[0mx1\u001b[0m\u001b[1;33m)\u001b[0m \u001b[1;33m>\u001b[0m \u001b[1;36m0\u001b[0m\u001b[1;33m)\u001b[0m\u001b[1;33m:\u001b[0m\u001b[1;33m\u001b[0m\u001b[1;33m\u001b[0m\u001b[0m\n\u001b[0m\u001b[0;32m      3\u001b[0m         \u001b[0mvec\u001b[0m \u001b[1;33m=\u001b[0m \u001b[0mx0\u001b[0m \u001b[1;33m-\u001b[0m \u001b[0mx1\u001b[0m\u001b[1;33m\u001b[0m\u001b[1;33m\u001b[0m\u001b[0m\n\u001b[0;32m      4\u001b[0m     \u001b[1;32melse\u001b[0m\u001b[1;33m:\u001b[0m\u001b[1;33m\u001b[0m\u001b[1;33m\u001b[0m\u001b[0m\n\u001b[0;32m      5\u001b[0m         \u001b[0mvec\u001b[0m \u001b[1;33m=\u001b[0m \u001b[0mx1\u001b[0m \u001b[1;33m-\u001b[0m \u001b[0mx0\u001b[0m\u001b[1;33m\u001b[0m\u001b[1;33m\u001b[0m\u001b[0m\n",
      "\u001b[1;32m<ipython-input-5-3bf15fb8ebee>\u001b[0m in \u001b[0;36mgx\u001b[1;34m(x)\u001b[0m\n\u001b[0;32m     22\u001b[0m \u001b[1;32mdef\u001b[0m \u001b[0mgx\u001b[0m\u001b[1;33m(\u001b[0m\u001b[0mx\u001b[0m\u001b[1;33m)\u001b[0m\u001b[1;33m:\u001b[0m\u001b[1;33m\u001b[0m\u001b[1;33m\u001b[0m\u001b[0m\n\u001b[0;32m     23\u001b[0m     \u001b[0mk\u001b[0m \u001b[1;33m=\u001b[0m \u001b[0mnp\u001b[0m\u001b[1;33m.\u001b[0m\u001b[0marray\u001b[0m\u001b[1;33m(\u001b[0m\u001b[1;33m[\u001b[0m\u001b[1;36m3\u001b[0m\u001b[1;33m,\u001b[0m \u001b[1;36m1\u001b[0m\u001b[1;33m]\u001b[0m\u001b[1;33m)\u001b[0m\u001b[1;33m\u001b[0m\u001b[1;33m\u001b[0m\u001b[0m\n\u001b[1;32m---> 24\u001b[1;33m     \u001b[1;32mreturn\u001b[0m \u001b[0msum\u001b[0m\u001b[1;33m(\u001b[0m\u001b[0mnp\u001b[0m\u001b[1;33m.\u001b[0m\u001b[0msquare\u001b[0m\u001b[1;33m(\u001b[0m\u001b[0mk\u001b[0m \u001b[1;33m*\u001b[0m \u001b[0mx\u001b[0m\u001b[1;33m)\u001b[0m\u001b[1;33m)\u001b[0m\u001b[1;33m\u001b[0m\u001b[1;33m\u001b[0m\u001b[0m\n\u001b[0m\u001b[0;32m     25\u001b[0m \u001b[1;32mdef\u001b[0m \u001b[0mgradgx\u001b[0m\u001b[1;33m(\u001b[0m\u001b[0mx\u001b[0m\u001b[1;33m)\u001b[0m\u001b[1;33m:\u001b[0m\u001b[1;33m\u001b[0m\u001b[1;33m\u001b[0m\u001b[0m\n\u001b[0;32m     26\u001b[0m     \u001b[0mk\u001b[0m \u001b[1;33m=\u001b[0m \u001b[0mnp\u001b[0m\u001b[1;33m.\u001b[0m\u001b[0marray\u001b[0m\u001b[1;33m(\u001b[0m\u001b[1;33m[\u001b[0m\u001b[1;36m18\u001b[0m\u001b[1;33m,\u001b[0m \u001b[1;36m2\u001b[0m\u001b[1;33m]\u001b[0m\u001b[1;33m)\u001b[0m\u001b[1;33m\u001b[0m\u001b[1;33m\u001b[0m\u001b[0m\n",
      "\u001b[1;31mKeyboardInterrupt\u001b[0m: "
     ]
    }
   ],
   "source": [
    "x0 = np.array([5,1])\n",
    "e = 0.05\n",
    "x_min = p_gradient(gx, gradgx, x0, e)\n",
    "print(round(gx(x_min), 3), x_min)\n",
    "''''''"
   ]
  },
  {
   "cell_type": "code",
   "execution_count": null,
   "metadata": {
    "scrolled": true
   },
   "outputs": [],
   "source": [
    "x0 = np.array([5,1,1])\n",
    "e = 0.05\n",
    "x_min = p_gradient(hx, gradhx, x0, e)\n",
    "print(round(hx(x_min), 3), x_min)"
   ]
  },
  {
   "cell_type": "markdown",
   "metadata": {},
   "source": [
    "# Овражный метод"
   ]
  },
  {
   "cell_type": "code",
   "execution_count": 13,
   "metadata": {},
   "outputs": [],
   "source": [
    "def ravine_gradient(f, grad, x0, e):\n",
    "    x1 = x0 - e*10\n",
    "    n  = 0\n",
    "    n1 = 0\n",
    "    while abs(lg.norm(grad(x0))) > e * 5:\n",
    "        for k in range(len(x0)):\n",
    "            if(abs(lg.norm(grad(x0))) < e * 5):\n",
    "                break\n",
    "            n+=1\n",
    "            print('')\n",
    "            print('------[----', n, '----]------')\n",
    "            \n",
    "            a = mygeom(x0, e/100, grad)\n",
    "            \n",
    "            x0 = x0 - grad(x0) * a\n",
    "            \n",
    "            a = mygeom(x1, e/100, grad)\n",
    "            x1 = x1 - grad(x1) * a\n",
    "            \n",
    "            print('  x0    = ', x0 ,   ' x1    = ', x1 )\n",
    "            print('  f(x0) = ', f(x0), ' f(x1) = ', f(x1) )\n",
    "            \n",
    "        if(abs(lg.norm(grad(x0))) < e * 5):\n",
    "                break\n",
    "                \n",
    "        print('')\n",
    "        print('скачок[----', n1, '----]скачок')\n",
    "        a = grad_descent_a1(f, x0, x1, e / 100)\n",
    "        x0 = x0 - a * (x1-x0) \n",
    "        x1 = x0 - e*10\n",
    "        print('a1 = ', a)\n",
    "        print('  x1  = ', x0)\n",
    "        print('f(x1) = ', f(x0))\n",
    "        n1+=1\n",
    "        \n",
    "    print('сделано ', n, ' шагов')\n",
    "    print('сделано ', n1, ' скачков')\n",
    "    return x0\n"
   ]
  },
  {
   "cell_type": "code",
   "execution_count": 14,
   "metadata": {
    "scrolled": true
   },
   "outputs": [
    {
     "name": "stdout",
     "output_type": "stream",
     "text": [
      "\n",
      "------[---- 1 ----]------\n",
      "  x0    =  [-0.21060878 -0.19556529 -0.15043484]  x1    =  [-0.00648569 -0.00576506 -0.00360316]\n",
      "  f(x0) =  1.1109688616370808  f(x1) =  1.0000882866804481\n",
      "\n",
      "------[---- 2 ----]------\n",
      "  x0    =  [-2.69630891e-05 -2.50371542e-05 -1.92593494e-05]  x1    =  [-0.00648569 -0.00576506 -0.00360316]\n",
      "  f(x0) =  1.0000000017247899  f(x1) =  1.0000882866804481\n",
      "сделано  2  шагов\n",
      "сделано  0  скачков\n",
      "1.0 [-2.69630891e-05 -2.50371542e-05 -1.92593494e-05]\n"
     ]
    }
   ],
   "source": [
    "x0 = np.array([1.4, 1.3, 1])\n",
    "e = 0.05\n",
    "x_min = ravine_gradient(fx, gradfx, x0, e)\n",
    "\n",
    "print(round(fx(x_min), 3), x_min)"
   ]
  },
  {
   "cell_type": "code",
   "execution_count": 15,
   "metadata": {},
   "outputs": [
    {
     "name": "stdout",
     "output_type": "stream",
     "text": [
      "\n",
      "------[---- 1 ----]------\n",
      "  x0    =  [ 0.         -0.00491163 -0.00491163]  x1    =  [ 0.         -0.00121127 -0.00121127]\n",
      "  f(x0) =  1.0000482493717615  f(x1) =  1.0000029343363694\n",
      "сделано  1  шагов\n",
      "сделано  0  скачков\n",
      "1.0 [ 0.         -0.00491163 -0.00491163]\n"
     ]
    }
   ],
   "source": [
    "x0 = np.array([5,1,1])\n",
    "e = 0.05\n",
    "x_min = ravine_gradient(hx, gradhx, x0, e)\n",
    "print(round(hx(x_min), 3), x_min)\n"
   ]
  },
  {
   "cell_type": "code",
   "execution_count": 16,
   "metadata": {},
   "outputs": [
    {
     "name": "stdout",
     "output_type": "stream",
     "text": [
      "\n",
      "------[---- 1 ----]------\n",
      "  x0    =  [-0.32  8.8 ]  x1    =  [-0.3115  8.3505]\n",
      "  f(x0) =  78.3616  f(x1) =  70.60414049999999\n",
      "\n",
      "------[---- 2 ----]------\n",
      "  x0    =  [1.3072 3.828 ]  x1    =  [1.2388355 3.7326735]\n",
      "  f(x0) =  30.032530560000282  f(x1) =  27.745272022144746\n",
      "\n",
      "скачок[---- 0 ----]скачок\n",
      "a1 =  -22.858260994617122\n",
      "  x1  =  [-0.25549358  1.64900198]\n",
      "f(x1) =  3.3067002830289414\n",
      "\n",
      "------[---- 3 ----]------\n",
      "  x0    =  [0.11241718 1.38516167]  x1    =  [0.02644228 1.01686676]\n",
      "  f(x0) =  2.0324114357435157  f(x1) =  1.0403107432367256\n",
      "\n",
      "------[---- 4 ----]------\n",
      "  x0    =  [-0.15569779  1.01809382]  x1    =  [-0.1420479   0.29692509]\n",
      "  f(x0) =  1.2546912516095627  f(x1) =  0.2697629728750749\n",
      "\n",
      "скачок[---- 1 ----]скачок\n",
      "a1 =  -1.4438500249659227\n",
      "  x1  =  [-0.1359894  -0.02316567]\n",
      "f(x1) =  0.16697470336334935\n",
      "\n",
      "------[---- 5 ----]------\n",
      "  x0    =  [ 0.00108792 -0.02057111]  x1    =  [ 0.01081182 -0.46404795]\n",
      "  f(x0) =  0.0004338227025942484  f(x1) =  0.2163925559355663\n",
      "сделано  5  шагов\n",
      "сделано  2  скачков\n",
      "0.0 [ 0.00108792 -0.02057111]\n"
     ]
    }
   ],
   "source": [
    "x0 = np.array([4, 10])\n",
    "e = 0.05\n",
    "x_min = ravine_gradient(gx, gradgx, x0, e)\n",
    "print(round(gx(x_min), 3), x_min)"
   ]
  },
  {
   "cell_type": "markdown",
   "metadata": {},
   "source": [
    "## Модифицированный метод Ньютона"
   ]
  },
  {
   "cell_type": "markdown",
   "metadata": {},
   "source": [
    "## Вспомогательные функции"
   ]
  },
  {
   "cell_type": "code",
   "execution_count": 17,
   "metadata": {},
   "outputs": [],
   "source": [
    "def grad_descent_a3(f, grad, grad2, x, e):\n",
    "    a = 0\n",
    "    df = der1_e(f, x, a, np.dot( lg.inv(grad2fx(x)),gradfx(x)), e)\n",
    "    while e < abs(df(a)):\n",
    "        d2f = der2_e(f, x, a, np.dot( lg.inv(grad2fx(x)),gradfx(x)), e)\n",
    "        a = a - df(a)/d2f(a)\n",
    "        df = der1_e(f, x, a, np.dot( lg.inv(grad2fx(x)),gradfx(x)), e)\n",
    "    return a"
   ]
  },
  {
   "cell_type": "code",
   "execution_count": 25,
   "metadata": {
    "scrolled": true
   },
   "outputs": [],
   "source": [
    "def Newton_gradient(f, grad, grad2, x, e):\n",
    "    n = 0\n",
    "    while abs(lg.norm(grad(x))) > e:\n",
    "        print('')\n",
    "        print('------[----', n, '----]------')\n",
    "        n+=1\n",
    "        p = np.dot(lg.inv(grad2fx(x)),gradfx(x))\n",
    "        a = grad_descent_a3(f, grad, grad2, x, e/10)\n",
    "        print('x', x)\n",
    "        print('a', a)\n",
    "        print('p', p)\n",
    "        x -= a * p\n",
    "    print('сделано ', n, ' шагов')\n",
    "    return x0"
   ]
  },
  {
   "cell_type": "code",
   "execution_count": 26,
   "metadata": {},
   "outputs": [
    {
     "name": "stdout",
     "output_type": "stream",
     "text": [
      "\n",
      "------[---- 0 ----]------\n",
      "x [2. 1. 1.]\n",
      "a 12.994352469581676\n",
      "p [0.15384615 0.07692308 0.07692308]\n",
      "сделано  1  шагов\n",
      "1.0 [0.00086885 0.00043443 0.00043443]\n"
     ]
    }
   ],
   "source": [
    "x0 = np.array([2, 1.0, 1.0])\n",
    "e = 0.05\n",
    "x_min = Newton_gradient(fx, gradfx, grad2fx, x0, e)\n",
    "print(round(fx(x_min), 3), x_min)"
   ]
  },
  {
   "cell_type": "code",
   "execution_count": 27,
   "metadata": {},
   "outputs": [
    {
     "name": "stdout",
     "output_type": "stream",
     "text": [
      "\n",
      "------[---- 0 ----]------\n",
      "x [ 4. 10.]\n",
      "a 232.99959063826395\n",
      "p [0.01716738 0.04291845]\n",
      "сделано  1  шагов\n",
      "0.0 [7.02766941e-06 1.75691732e-05]\n"
     ]
    }
   ],
   "source": [
    "x0 = np.array([4., 10.])\n",
    "e = 0.05\n",
    "x_min = Newton_gradient(gx, gradgx,grad2gx, x0, e)\n",
    "print(round(gx(x_min), 3), x_min)"
   ]
  },
  {
   "cell_type": "code",
   "execution_count": 28,
   "metadata": {},
   "outputs": [
    {
     "name": "stdout",
     "output_type": "stream",
     "text": [
      "\n",
      "------[---- 0 ----]------\n",
      "x [5.e-12 1.e+00 1.e+00]\n",
      "a 4.971563695320347\n",
      "p [0.09090909 0.18181818 0.18181818]\n",
      "\n",
      "------[---- 1 ----]------\n",
      "x [-4.51960336e-05  9.60793281e-02  9.60793281e-02]\n",
      "a 0.9961543768498773\n",
      "p [-0.04341555  0.09229431  0.09229431]\n",
      "сделано  2  шагов\n",
      "1.0 [0.00043203 0.00413995 0.00413995]\n"
     ]
    }
   ],
   "source": [
    "x0 = np.array([5.0,1.0,1.0])\n",
    "e = 0.05\n",
    "x_min = Newton_gradient(hx, gradhx, grad2hx, x0, e)\n",
    "print(round(hx(x_min), 3), x_min)"
   ]
  },
  {
   "cell_type": "code",
   "execution_count": null,
   "metadata": {},
   "outputs": [],
   "source": []
  }
 ],
 "metadata": {
  "kernelspec": {
   "display_name": "Python 3",
   "language": "python",
   "name": "python3"
  },
  "language_info": {
   "codemirror_mode": {
    "name": "ipython",
    "version": 3
   },
   "file_extension": ".py",
   "mimetype": "text/x-python",
   "name": "python",
   "nbconvert_exporter": "python",
   "pygments_lexer": "ipython3",
   "version": "3.8.3"
  }
 },
 "nbformat": 4,
 "nbformat_minor": 4
}
