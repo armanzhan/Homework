{
 "cells": [
  {
   "cell_type": "markdown",
   "metadata": {},
   "source": [
    "# Ускоренные градиентные методы"
   ]
  },
  {
   "cell_type": "code",
   "execution_count": 7,
   "metadata": {},
   "outputs": [],
   "source": [
    "import numpy as np\n",
    "import numpy.linalg as lg"
   ]
  },
  {
   "cell_type": "markdown",
   "metadata": {},
   "source": [
    "### Функция и ее градиент"
   ]
  },
  {
   "cell_type": "code",
   "execution_count": 8,
   "metadata": {},
   "outputs": [],
   "source": [
    "def fx(x): \n",
    "    return np.exp(sum(np.square(x)))\n",
    "def gradfx(x):\n",
    "    return fx(x) * (2*x) \n",
    "def grad2fx(x):\n",
    "    return fx(x) * 2 * (np.eye(len(x)) + 2 * x.reshape(len(x),1) * x)\n",
    "\n",
    "def hx(x): \n",
    "    x1 = x\n",
    "    x1[0] = x[0]/10\n",
    "    return np.exp(sum(np.square(x1)))\n",
    "def gradhx(x_):\n",
    "    x = x_\n",
    "    x[0] = x[0]/10\n",
    "    return fx(x) * (2*x) \n",
    "def grad2hx(x_):\n",
    "    x = x_\n",
    "    x[0] = x[0]/10\n",
    "    return fx(x) * 2 * (np.eye(len(x)) + 2 * x.reshape(len(x),1) * x)\n",
    "\n",
    "#альтернативная ДВУМЕРНАЯ функция ( для проверки)\n",
    "def gx(x):\n",
    "    k = np.array([3, 1])\n",
    "    return sum(np.square(k * x))\n",
    "def gradgx(x):\n",
    "    k = np.array([18, 2])\n",
    "    return x * k\n",
    "def grad2gx(x):\n",
    "    return np.array([[18 ,0],[0, 2]])\n"
   ]
  },
  {
   "cell_type": "markdown",
   "metadata": {},
   "source": [
    "## Вспомогательные функции"
   ]
  },
  {
   "cell_type": "markdown",
   "metadata": {},
   "source": [
    "### \"Умные\" производные "
   ]
  },
  {
   "cell_type": "code",
   "execution_count": 9,
   "metadata": {},
   "outputs": [],
   "source": [
    "def func(f, x0, gradx0):\n",
    "    def fun(a):\n",
    "        A = x0 -  gradx0 * a\n",
    "        return f(A)\n",
    "    return fun\n",
    "\n",
    "def der1_e(f_, x0, a, gradx0, e):\n",
    "    f_(x0)\n",
    "    f = func(f_, x0, gradx0)\n",
    "    def der(a):\n",
    "        return (f(a + e) - f(a)) / e\n",
    "    return der\n",
    "\n",
    "def der2_e(f_, x0, a, gradx0, e):\n",
    "    df = der1_e(f_, x0, a, gradx0, e)\n",
    "    def der2(a):\n",
    "        return (df(a + e) - df(a))/e\n",
    "    return der2"
   ]
  },
  {
   "cell_type": "markdown",
   "metadata": {},
   "source": [
    "### геометрический метод поиска альфа основанный на ортогональности градиентов "
   ]
  },
  {
   "cell_type": "code",
   "execution_count": 10,
   "metadata": {},
   "outputs": [],
   "source": [
    "def mygeom(x0, e, grad):\n",
    "    #print('    start mygeom')\n",
    "    a = 0\n",
    "    scalar = abs(sum(grad(x0)*grad(x0 - a * grad(x0))))\n",
    "    while scalar > e: \n",
    "        a+=e\n",
    "        scalar1 = scalar\n",
    "        scalar = abs(sum(grad(x0)*grad(x0 - a * grad(x0))))\n",
    "        #print('    a = ', a)\n",
    "        #print('    scalar = ', scalar)\n",
    "        if (scalar1 < scalar):       \n",
    "            break\n",
    "            \n",
    "    #print('    end mygeom')\n",
    "    return a"
   ]
  },
  {
   "cell_type": "markdown",
   "metadata": {},
   "source": [
    "# Ускоренный градиентный метод p-го порядка"
   ]
  },
  {
   "cell_type": "code",
   "execution_count": 11,
   "metadata": {},
   "outputs": [],
   "source": [
    "def grad_descent_a1(f, x0, x1, e):\n",
    "    if(f(x0)-f(x1) > 0):\n",
    "        vec = x0 - x1\n",
    "    else:\n",
    "        vec = x1 - x0\n",
    "        \n",
    "    a = 0\n",
    "    df = der1_e(f, x0, a, vec, e)\n",
    "    while e < abs(df(a)):\n",
    "        d2f = der2_e(f, x0, a, vec, e)\n",
    "        a = a - df(a)/d2f(a)\n",
    "        df = der1_e(f, x0, a, vec, e)\n",
    "    return a"
   ]
  },
  {
   "cell_type": "code",
   "execution_count": 12,
   "metadata": {},
   "outputs": [],
   "source": [
    "def p_gradient(f, grad, x0, e):\n",
    "    n  = 0\n",
    "    n1 = 0;\n",
    "    while abs(lg.norm(grad(x0))) > e * 5:\n",
    "        x_st = x0\n",
    "        for k in range(len(x0)):\n",
    "            if(abs(lg.norm(grad(x_st))) <= e * 5):\n",
    "                break\n",
    "            n+=1\n",
    "            print('')\n",
    "            print('------[----', n, '----]------')\n",
    "            a = mygeom(x0, e/100, grad)\n",
    "            x0 = x0 - grad(x0) * a\n",
    "            print('')\n",
    "            print('a = ', a)\n",
    "            print('  x  = ', x0)\n",
    "            print('f(x) = ', f(x0))\n",
    "        if(abs(lg.norm(grad(x0))) <= e * 5):\n",
    "                break\n",
    "        print('')\n",
    "        print('скачок[----', n1, '----]скачок')\n",
    "        #a = grad_descent_a1(f, x_st, x0, e / 100)\n",
    "        #x0 = x0 - grad(x0) * a\n",
    "        print('a1 = ', a)\n",
    "        print('  x1  = ', x0)\n",
    "        print('f(x1) = ', f(x0))\n",
    "        n1+=1\n",
    "        \n",
    "    print('сделано ', n, ' шагов')\n",
    "    print('сделано ', n1, ' скачков')\n",
    "    return x0"
   ]
  },
  {
   "cell_type": "markdown",
   "metadata": {},
   "source": [
    "## тесты"
   ]
  },
  {
   "cell_type": "code",
   "execution_count": 13,
   "metadata": {
    "collapsed": true
   },
   "outputs": [
    {
     "name": "stdout",
     "output_type": "stream",
     "text": [
      "\n",
      "------[---- 1 ----]------\n",
      "\n",
      "a =  0.01650000000000001\n",
      "  x  =  [-0.03500354 -0.02916962 -0.02916962]\n",
      "f(x) =  1.0029312692576424\n",
      "\n",
      "------[---- 2 ----]------\n",
      "\n",
      "a =  0.47750000000000037\n",
      "  x  =  [-0.00147717 -0.00123098 -0.00123098]\n",
      "f(x) =  1.000005212656834\n",
      "\n",
      "------[---- 3 ----]------\n",
      "\n",
      "a =  0\n",
      "  x  =  [-0.00147717 -0.00123098 -0.00123098]\n",
      "f(x) =  1.000005212656834\n",
      "сделано  3  шагов\n",
      "сделано  0  скачков\n",
      "1.0 [-0.00147717 -0.00123098 -0.00123098]\n"
     ]
    },
    {
     "data": {
      "text/plain": [
       "''"
      ]
     },
     "execution_count": 13,
     "metadata": {},
     "output_type": "execute_result"
    }
   ],
   "source": [
    "x0 = np.array([1.2, 1, 1])\n",
    "e = 0.05\n",
    "x_min = p_gradient(fx, gradfx, x0, e)\n",
    "print(round(fx(x_min), 3), x_min)\n",
    "''''''"
   ]
  },
  {
   "cell_type": "code",
   "execution_count": 14,
   "metadata": {
    "collapsed": true
   },
   "outputs": [
    {
     "name": "stdout",
     "output_type": "stream",
     "text": [
      "\n",
      "------[---- 1 ----]------\n",
      "\n",
      "a =  0.05600000000000004\n",
      "  x  =  [-0.04   0.888]\n",
      "f(x) =  0.8029440000000024\n",
      "\n",
      "------[---- 2 ----]------\n",
      "\n",
      "a =  0.23550000000000018\n",
      "  x  =  [0.12956  0.469752]\n",
      "f(x) =  0.371739083904027\n",
      "\n",
      "скачок[---- 0 ----]скачок\n",
      "a1 =  0.23550000000000018\n",
      "  x1  =  [0.12956  0.469752]\n",
      "f(x1) =  0.371739083904027\n",
      "\n",
      "------[---- 3 ----]------\n",
      "\n",
      "a =  0.06400000000000004\n",
      "  x  =  [-0.01969312  0.40962374]\n",
      "f(x) =  0.1712819824265875\n",
      "\n",
      "------[---- 4 ----]------\n",
      "\n",
      "a =  0.22100000000000017\n",
      "  x  =  [0.05864611 0.22857005]\n",
      "f(x) =  0.08319856476819916\n",
      "\n",
      "скачок[---- 1 ----]скачок\n",
      "a1 =  0.22100000000000017\n",
      "  x1  =  [0.05864611 0.22857005]\n",
      "f(x1) =  0.08319856476819916\n",
      "\n",
      "------[---- 5 ----]------\n",
      "\n",
      "a =  0.06500000000000004\n",
      "  x  =  [-0.00996984  0.19885594]\n",
      "f(x) =  0.04043826516668597\n",
      "\n",
      "------[---- 6 ----]------\n",
      "\n",
      "a =  0.21200000000000016\n",
      "  x  =  [0.02807507 0.11454102]\n",
      "f(x) =  0.020213530152572167\n",
      "\n",
      "скачок[---- 2 ----]скачок\n",
      "a1 =  0.21200000000000016\n",
      "  x1  =  [0.02807507 0.11454102]\n",
      "f(x1) =  0.020213530152572167\n",
      "\n",
      "------[---- 7 ----]------\n",
      "\n",
      "a =  0.06550000000000004\n",
      "  x  =  [-0.00502544  0.09953615]\n",
      "f(x) =  0.010134740104044063\n",
      "\n",
      "------[---- 8 ----]------\n",
      "\n",
      "a =  0.20900000000000016\n",
      "  x  =  [0.01388026 0.05793004]\n",
      "f(x) =  0.005089843119581156\n",
      "\n",
      "скачок[---- 3 ----]скачок\n",
      "a1 =  0.20900000000000016\n",
      "  x1  =  [0.01388026 0.05793004]\n",
      "f(x1) =  0.005089843119581156\n",
      "\n",
      "------[---- 9 ----]------\n",
      "\n",
      "a =  0.06550000000000004\n",
      "  x  =  [-0.00248457  0.0503412 ]\n",
      "f(x) =  0.0025897943967858627\n",
      "\n",
      "------[---- 10 ----]------\n",
      "\n",
      "a =  0.20700000000000016\n",
      "  x  =  [0.00677293 0.02949995]\n",
      "f(x) =  0.0012830996089211674\n",
      "сделано  10  шагов\n",
      "сделано  4  скачков\n",
      "0.001 [0.00677293 0.02949995]\n"
     ]
    },
    {
     "data": {
      "text/plain": [
       "''"
      ]
     },
     "execution_count": 14,
     "metadata": {},
     "output_type": "execute_result"
    }
   ],
   "source": [
    "x0 = np.array([5,1])\n",
    "e = 0.05\n",
    "x_min = p_gradient(gx, gradgx, x0, e)\n",
    "print(round(gx(x_min), 3), x_min)\n",
    "''''''"
   ]
  },
  {
   "cell_type": "code",
   "execution_count": 16,
   "metadata": {},
   "outputs": [
    {
     "name": "stdout",
     "output_type": "stream",
     "text": [
      "\n",
      "------[---- 1 ----]------\n",
      "\n",
      "a =  0.06800000000000005\n",
      "  x  =  [ 0.         -0.00491163 -0.00491163]\n",
      "f(x) =  1.0000482493717615\n",
      "\n",
      "------[---- 2 ----]------\n",
      "\n",
      "a =  0\n",
      "  x  =  [ 0.         -0.00491163 -0.00491163]\n",
      "f(x) =  1.0000482493717615\n",
      "\n",
      "------[---- 3 ----]------\n",
      "\n",
      "a =  0\n",
      "  x  =  [ 0.         -0.00491163 -0.00491163]\n",
      "f(x) =  1.0000482493717615\n",
      "сделано  3  шагов\n",
      "сделано  0  скачков\n",
      "1.0 [ 0.         -0.00491163 -0.00491163]\n"
     ]
    }
   ],
   "source": [
    "x0 = np.array([5,1,1])\n",
    "e = 0.05\n",
    "x_min = p_gradient(hx, gradhx, x0, e)\n",
    "print(round(hx(x_min), 3), x_min)"
   ]
  },
  {
   "cell_type": "markdown",
   "metadata": {},
   "source": [
    "# Овражный метод"
   ]
  },
  {
   "cell_type": "markdown",
   "metadata": {},
   "source": [
    "## Вспомогательные функции"
   ]
  },
  {
   "cell_type": "code",
   "execution_count": 17,
   "metadata": {},
   "outputs": [],
   "source": [
    "def grad_descent_a2(f, x0, x1, e):\n",
    "    if(f(x0) - f(x1) < 0):\n",
    "        vec = x0 - x1\n",
    "    else:\n",
    "        vec = x1 - x0\n",
    "    a = 0\n",
    "    df = der1_e(f, x0, a, vec, e)\n",
    "    while e < abs(df(a)):\n",
    "        d2f = der2_e(f, x0, a, vec, e)\n",
    "        a = a - df(a)/d2f(a)\n",
    "        \n",
    "        df = der1_e(f, x0, a, vec, e)\n",
    "    return a"
   ]
  },
  {
   "cell_type": "code",
   "execution_count": 18,
   "metadata": {},
   "outputs": [],
   "source": [
    "\n",
    "def ravine_gradient(f, grad, x0, e):\n",
    "    x1 = x0 - grad(x0)/4\n",
    "    n  = 0\n",
    "    n1 = 0;\n",
    "    while abs(lg.norm(grad(x0))) > e * 5:\n",
    "        for k in range(len(x0)):\n",
    "            if(abs(lg.norm(grad(x0))) < e * 5):\n",
    "                break\n",
    "            n+=1\n",
    "            print('')\n",
    "            print('------[----', n, '----]------')\n",
    "            \n",
    "            a = mygeom(x0, e/100, grad)\n",
    "            x0 = x0 - grad(x0) * a\n",
    "            \n",
    "            a = mygeom(x1, e/100, grad)\n",
    "            x1 = x1 - grad(x1) * a\n",
    "            \n",
    "            print('  x0  = ', x0 ,    ' x1  = ', x1 )\n",
    "            print('f(x0) = ', f(x0), 'f(x1) = ', f(x1) )\n",
    "            \n",
    "        if(abs(lg.norm(grad(x0))) < e * 5):\n",
    "                break\n",
    "                \n",
    "        print('')\n",
    "        print('скачок[----', n1, '----]скачок')\n",
    "        a = grad_descent_a2(f, x0, x1, e / 100)\n",
    "        x0 = x0 - grad(x0) * a\n",
    "        x1 = x0 - grad(x0)/4\n",
    "        print('a1 = ', a)\n",
    "        print('  x1  = ', x0)\n",
    "        print('f(x1) = ', f(x0))\n",
    "        n1+=1\n",
    "        \n",
    "    print('сделано ', n, ' шагов')\n",
    "    print('сделано ', n1, ' скачков')\n",
    "    return x0\n"
   ]
  },
  {
   "cell_type": "code",
   "execution_count": 19,
   "metadata": {
    "collapsed": true
   },
   "outputs": [
    {
     "name": "stdout",
     "output_type": "stream",
     "text": [
      "\n",
      "------[---- 1 ----]------\n",
      "  x0  =  [-0.21060878 -0.19556529 -0.15043484]  x1  =  [nan nan nan]\n",
      "f(x0) =  1.1109688616370808 f(x1) =  nan\n",
      "\n",
      "------[---- 2 ----]------\n",
      "  x0  =  [-2.69630891e-05 -2.50371542e-05 -1.92593494e-05]  x1  =  [nan nan nan]\n",
      "f(x0) =  1.0000000017247899 f(x1) =  nan\n",
      "сделано  2  шагов\n",
      "сделано  0  скачков\n",
      "1.0 [-2.69630891e-05 -2.50371542e-05 -1.92593494e-05]\n"
     ]
    },
    {
     "name": "stderr",
     "output_type": "stream",
     "text": [
      "<ipython-input-8-3bf15fb8ebee>:2: RuntimeWarning: overflow encountered in exp\n",
      "  return np.exp(sum(np.square(x)))\n",
      "<ipython-input-10-ead853949d4c>:4: RuntimeWarning: invalid value encountered in multiply\n",
      "  scalar = abs(sum(grad(x0)*grad(x0 - a * grad(x0))))\n",
      "<ipython-input-18-faae12bb583b>:17: RuntimeWarning: invalid value encountered in multiply\n",
      "  x1 = x1 - grad(x1) * a\n"
     ]
    }
   ],
   "source": [
    "x0 = np.array([1.4, 1.3, 1])\n",
    "e = 0.05\n",
    "x_min = ravine_gradient(fx, gradfx, x0, e)\n",
    "\n",
    "print(round(fx(x_min), 3), x_min)"
   ]
  },
  {
   "cell_type": "code",
   "execution_count": 20,
   "metadata": {
    "collapsed": true
   },
   "outputs": [
    {
     "name": "stdout",
     "output_type": "stream",
     "text": [
      "\n",
      "------[---- 1 ----]------\n",
      "  x0  =  [-0.32  8.8 ]  x1  =  [0.112 4.44 ]\n",
      "f(x0) =  78.3616 f(x1) =  19.826496000000017\n",
      "\n",
      "------[---- 2 ----]------\n",
      "  x0  =  [1.3072 3.828 ]  x1  =  [-0.612752  1.24764 ]\n",
      "f(x0) =  30.032530560000282 f(x1) =  4.935790691136647\n",
      "\n",
      "скачок[---- 0 ----]скачок\n",
      "a1 =  -0.815264994068489\n",
      "  x1  =  [20.4900592  10.06966879]\n",
      "f(x1) =  3879.980965443646\n",
      "\n",
      "------[---- 3 ----]------\n",
      "  x0  =  [-0.16392047  8.94186589]  x1  =  [0.57372166 4.47093294]\n",
      "f(x0) =  80.19879488258462 f(x1) =  22.951650261749474\n",
      "\n",
      "------[---- 4 ----]------\n",
      "  x0  =  [1.05466433 1.55588466]  x1  =  [-0.35570743  3.66616501]\n",
      "f(x0) =  12.431628680982248 f(x1) =  14.579515882915969\n",
      "\n",
      "скачок[---- 1 ----]скачок\n",
      "a1 =  0.45171091059332735\n",
      "  x1  =  [-7.52059658  0.15026451]\n",
      "f(x1) =  509.05693555797393\n",
      "\n",
      "------[---- 5 ----]------\n",
      "  x0  =  [0.06016477 0.13343488]  x1  =  [-0.2105767   0.06671744]\n",
      "f(x0) =  0.05038306667213433 f(x1) =  0.4035341521803952\n",
      "\n",
      "------[---- 6 ----]------\n",
      "  x0  =  [-0.00373022  0.11768957]  x1  =  [0.00168461 0.05924509]\n",
      "f(x0) =  0.013976064636402797 f(x1) =  0.0035355217421343026\n",
      "сделано  6  шагов\n",
      "сделано  2  скачков\n",
      "0.014 [-0.00373022  0.11768957]\n"
     ]
    }
   ],
   "source": [
    "x0 = np.array([4, 10])\n",
    "e = 0.05\n",
    "x_min = ravine_gradient(gx, gradgx, x0, e)\n",
    "print(round(gx(x_min), 3), x_min)"
   ]
  },
  {
   "cell_type": "code",
   "execution_count": 22,
   "metadata": {},
   "outputs": [
    {
     "name": "stdout",
     "output_type": "stream",
     "text": [
      "\n",
      "------[---- 1 ----]------\n",
      "  x0  =  [ 0.         -0.00491163 -0.00491163]  x1  =  [   0.         5453.08400889 5453.08400889]\n",
      "f(x0) =  1.0000482493717615 f(x1) =  inf\n",
      "сделано  1  шагов\n",
      "сделано  0  скачков\n",
      "1.0 [ 0.         -0.00491163 -0.00491163]\n"
     ]
    },
    {
     "name": "stderr",
     "output_type": "stream",
     "text": [
      "<ipython-input-8-3bf15fb8ebee>:2: RuntimeWarning: overflow encountered in exp\n",
      "  return np.exp(sum(np.square(x)))\n",
      "<ipython-input-8-3bf15fb8ebee>:15: RuntimeWarning: invalid value encountered in multiply\n",
      "  return fx(x) * (2*x)\n",
      "<ipython-input-8-3bf15fb8ebee>:11: RuntimeWarning: overflow encountered in exp\n",
      "  return np.exp(sum(np.square(x1)))\n"
     ]
    }
   ],
   "source": [
    "x0 = np.array([5,1,1])\n",
    "e = 0.05\n",
    "x_min = ravine_gradient(hx, gradhx, x0, e)\n",
    "print(round(hx(x_min), 3), x_min)"
   ]
  },
  {
   "cell_type": "markdown",
   "metadata": {},
   "source": [
    "## Модифицированный метод Ньютона"
   ]
  },
  {
   "cell_type": "markdown",
   "metadata": {},
   "source": [
    "## Вспомогательные функции"
   ]
  },
  {
   "cell_type": "code",
   "execution_count": 23,
   "metadata": {},
   "outputs": [],
   "source": [
    "def grad_descent_a3(f, grad, grad2, x, e):\n",
    "    a = 0\n",
    "    df = der1_e(f, x, a, np.dot( lg.inv(grad2fx(x)),gradfx(x)), e)\n",
    "    while e < abs(df(a)):\n",
    "        d2f = der2_e(f, x, a, np.dot( lg.inv(grad2fx(x)),gradfx(x)), e)\n",
    "        a = a - df(a)/d2f(a)\n",
    "        df = der1_e(f, x, a, np.dot( lg.inv(grad2fx(x)),gradfx(x)), e)\n",
    "    return a"
   ]
  },
  {
   "cell_type": "code",
   "execution_count": 24,
   "metadata": {
    "scrolled": true
   },
   "outputs": [],
   "source": [
    "def Newton_gradient(f, grad, grad2, x, e):\n",
    "    n = 0\n",
    "    while abs(lg.norm(grad(x))) > e * 5:\n",
    "        print('')\n",
    "        print('------[----', n, '----]------')\n",
    "        n+=1\n",
    "        p = np.dot(lg.inv(grad2fx(x)),gradfx(x))\n",
    "        a = grad_descent_a3(f, grad, grad2, x, e/100)\n",
    "        print('x', x)\n",
    "        print('a', a)\n",
    "        print('p', p)\n",
    "        x -= a * p\n",
    "        \n",
    "    print('сделано ', n, ' шагов')\n",
    "    \n",
    "    return x0"
   ]
  },
  {
   "cell_type": "code",
   "execution_count": 26,
   "metadata": {},
   "outputs": [
    {
     "name": "stdout",
     "output_type": "stream",
     "text": [
      "\n",
      "------[---- 0 ----]------\n",
      "x [2. 1. 1.]\n",
      "a 12.994191384948987\n",
      "p [0.15384615 0.07692308 0.07692308]\n",
      "сделано  1  шагов\n",
      "1.0 [0.00089363 0.00044682 0.00044682]\n"
     ]
    }
   ],
   "source": [
    "x0 = np.array([2, 1.0, 1.0])\n",
    "e = 0.05\n",
    "x_min = Newton_gradient(fx, gradfx, grad2fx, x0, e)\n",
    "print(round(fx(x_min), 3), x_min)"
   ]
  },
  {
   "cell_type": "code",
   "execution_count": 27,
   "metadata": {
    "collapsed": true
   },
   "outputs": [
    {
     "name": "stdout",
     "output_type": "stream",
     "text": [
      "\n",
      "------[---- 0 ----]------\n",
      "x [ 4. 10.]\n",
      "a 232.99816191126627\n",
      "p [0.01716738 0.04291845]\n",
      "сделано  1  шагов\n",
      "0.0 [3.15551715e-05 7.88879285e-05]\n"
     ]
    }
   ],
   "source": [
    "x0 = np.array([4., 10.])\n",
    "e = 0.05\n",
    "x_min = Newton_gradient(gx, gradgx,grad2gx, x0, e)\n",
    "print(round(gx(x_min), 3), x_min)"
   ]
  },
  {
   "cell_type": "code",
   "execution_count": 30,
   "metadata": {
    "collapsed": true
   },
   "outputs": [
    {
     "name": "stdout",
     "output_type": "stream",
     "text": [
      "\n",
      "------[---- 0 ----]------\n",
      "x [5.e-14 1.e+00 1.e+00]\n",
      "a 4.999746493614176\n",
      "p [0.09090909 0.18181818 0.18181818]\n",
      "\n",
      "------[---- 1 ----]------\n",
      "x [-4.54522409e-07  9.09551830e-02  9.09551830e-02]\n",
      "a 1.0328401085605683\n",
      "p [-0.04382108  0.08769104  0.08769104]\n",
      "сделано  2  шагов\n",
      "1.0 [0.0004526  0.00038436 0.00038436]\n"
     ]
    }
   ],
   "source": [
    "x0 = np.array([5.0,1.0,1.0])\n",
    "e = 0.05\n",
    "x_min = Newton_gradient(hx, gradhx, grad2hx, x0, e)\n",
    "print(round(hx(x_min), 3), x_min)"
   ]
  },
  {
   "cell_type": "code",
   "execution_count": null,
   "metadata": {},
   "outputs": [],
   "source": []
  }
 ],
 "metadata": {
  "kernelspec": {
   "display_name": "Python 3",
   "language": "python",
   "name": "python3"
  },
  "language_info": {
   "codemirror_mode": {
    "name": "ipython",
    "version": 3
   },
   "file_extension": ".py",
   "mimetype": "text/x-python",
   "name": "python",
   "nbconvert_exporter": "python",
   "pygments_lexer": "ipython3",
   "version": "3.8.3"
  }
 },
 "nbformat": 4,
 "nbformat_minor": 4
}
