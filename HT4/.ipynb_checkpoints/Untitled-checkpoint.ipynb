{
 "cells": [
  {
   "cell_type": "markdown",
   "metadata": {},
   "source": [
    "# Ускоренные градиентные методы"
   ]
  },
  {
   "cell_type": "code",
   "execution_count": 3,
   "metadata": {},
   "outputs": [],
   "source": [
    "import numpy as np\n",
    "import numpy.linalg as lg"
   ]
  },
  {
   "cell_type": "markdown",
   "metadata": {},
   "source": [
    "### Функция и ее градиент"
   ]
  },
  {
   "cell_type": "code",
   "execution_count": 4,
   "metadata": {},
   "outputs": [],
   "source": [
    "def fx(x): \n",
    "    return np.exp(sum(np.square(x)))\n",
    "def gradfx(x):\n",
    "    return fx(x) * (2*x) \n",
    "def grad2fx(x):\n",
    "    return fx(x) * 2 * (np.eye(len(x)) + 2 * x.reshape(len(x),1) * x)\n",
    "\n",
    "def hx(x): \n",
    "    x1 = x\n",
    "    x1[0] = x[0]/10\n",
    "    return np.exp(sum(np.square(x1)))\n",
    "def gradhx(x_):\n",
    "    x = x_\n",
    "    x[0] = x[0]/10\n",
    "    return fx(x) * (2*x) \n",
    "def grad2hx(x_):\n",
    "    x = x_\n",
    "    x[0] = x[0]/10\n",
    "    return fx(x) * 2 * (np.eye(len(x)) + 2 * x.reshape(len(x),1) * x)\n",
    "\n",
    "#альтернативная ДВУМЕРНАЯ функция ( для проверки)\n",
    "def gx(x):\n",
    "    k = np.array([3, 1])\n",
    "    return sum(np.square(k * x))\n",
    "def gradgx(x):\n",
    "    k = np.array([18, 2])\n",
    "    return x * k\n",
    "def grad2gx(x):\n",
    "    return np.array([[18 ,0],[0, 2]])\n"
   ]
  },
  {
   "cell_type": "markdown",
   "metadata": {},
   "source": [
    "## Вспомогательные функции"
   ]
  },
  {
   "cell_type": "markdown",
   "metadata": {},
   "source": [
    "### \"Умные\" производные "
   ]
  },
  {
   "cell_type": "code",
   "execution_count": 5,
   "metadata": {},
   "outputs": [],
   "source": [
    "def func(f, x0, gradx0):\n",
    "    def fun(a):\n",
    "        return f((x0 -  gradx0 * a))\n",
    "    return fun\n",
    "\n",
    "def der1_e(f_, x0, a, gradx0, e):\n",
    "    e = e / 2\n",
    "    f_(x0)\n",
    "    f = func(f_, x0, gradx0)\n",
    "    def der(a):\n",
    "        return (f(a + e) - f(a - e)) / (e * 2)\n",
    "    return der\n",
    "\n",
    "def der2_e(f_, x0, a, gradx0, e):\n",
    "    e = e / 2\n",
    "    df = der1_e(f_, x0, a, gradx0, e / 5)\n",
    "    def der2(a):\n",
    "        return (df(a + e) - df(a - e)) / ( e * 2 )\n",
    "    return der2"
   ]
  },
  {
   "cell_type": "markdown",
   "metadata": {},
   "source": [
    "### геометрический метод поиска альфа основанный на ортогональности градиентов "
   ]
  },
  {
   "cell_type": "code",
   "execution_count": 6,
   "metadata": {},
   "outputs": [],
   "source": [
    "def mygeom(x0, e, grad):\n",
    "    #print('    start mygeom')\n",
    "    a = 0\n",
    "    scalar = abs(sum(grad(x0)*grad(x0 - a * grad(x0))))\n",
    "    while scalar > e: \n",
    "        a+=e\n",
    "        scalar1 = scalar\n",
    "        scalar = abs(sum(grad(x0)*grad(x0 - a * grad(x0))))\n",
    "        #print('    a = ', a)\n",
    "        #print('    scalar = ', scalar)\n",
    "        if (scalar1 < scalar):       \n",
    "            break\n",
    "            \n",
    "    #print('    end mygeom')\n",
    "    return a"
   ]
  },
  {
   "cell_type": "markdown",
   "metadata": {},
   "source": [
    "# Ускоренный градиентный метод p-го порядка"
   ]
  },
  {
   "cell_type": "code",
   "execution_count": 7,
   "metadata": {},
   "outputs": [],
   "source": [
    "def grad_descent_a1(f, x0, x1, e):\n",
    "    if(f(x0)-f(x1) > 0):\n",
    "        vec = x0 - x1\n",
    "    else:\n",
    "        vec = x1 - x0\n",
    "    a = 0\n",
    "    df = der1_e(f, x0, a, x1-x0, e / 5)\n",
    "    while e < abs(df(a)):\n",
    "        d2f = der2_e(f, x0, a, x1-x0, e / 5)\n",
    "        a = a - df(a)/d2f(a)\n",
    "        df = der1_e(f, x0, a, x1-x0, e / 5)\n",
    "    return a\n",
    "\n",
    "def grad_descent_a2(f, x0, grad, e):\n",
    "    a = 0\n",
    "    df = der1_e(f, x0, a, grad, e / 5)\n",
    "    while e < abs(df(a)):\n",
    "        d2f = der2_e(f, x0, a, grad, e / 5)\n",
    "        a = a - df(a)/d2f(a)\n",
    "        df  = der1_e(f, x0, a, grad, e / 5)\n",
    "    return a"
   ]
  },
  {
   "cell_type": "code",
   "execution_count": 8,
   "metadata": {},
   "outputs": [],
   "source": [
    "def p_gradient(f, grad, x0, e):\n",
    "    n  = 0\n",
    "    n1 = 0;\n",
    "    while abs(lg.norm(grad(x0))) > e:\n",
    "        x1 = x0\n",
    "        \n",
    "        for k in range(len(x0)):\n",
    "            if(abs(lg.norm(grad(x1))) <= e):\n",
    "                x0 = x1\n",
    "                break\n",
    "            n+=1\n",
    "            print('')\n",
    "            print('------[----', n, '----]------')\n",
    "            #a = mygeom(x1, e/1000, grad)\n",
    "            a = grad_descent_a1(f, x0, grad(x0), e/100)\n",
    "            x1 = x1 - grad(x1) * a\n",
    "            print('')\n",
    "            print('a = ', a)\n",
    "            print('  x  = ', x1)\n",
    "            print('f(x) = ', f(x1))\n",
    "        if(abs(lg.norm(grad(x0))) <= e):\n",
    "                break\n",
    "        print('')\n",
    "        print('скачок[----', n1, '----]скачок')\n",
    "        a = grad_descent_a1(f, x0, x1, e / 100)\n",
    "        x0 = x0 -  (x1 - x0) * a\n",
    "        print('a1 = ', a)\n",
    "        print('  x1  = ', x0)\n",
    "        print('f(x1) = ', f(x0))\n",
    "        n1+=1\n",
    "        \n",
    "    print('сделано ', n, ' шагов')\n",
    "    print('сделано ', n1, ' скачков')\n",
    "    return x0"
   ]
  },
  {
   "cell_type": "markdown",
   "metadata": {},
   "source": [
    "## тесты"
   ]
  },
  {
   "cell_type": "code",
   "execution_count": 9,
   "metadata": {},
   "outputs": [
    {
     "name": "stdout",
     "output_type": "stream",
     "text": [
      "\n",
      "------[---- 1 ----]------\n",
      "\n",
      "a =  0.01629356663858428\n",
      "  x  =  [-0.01955227 -0.01629356 -0.01629356]\n",
      "f(x) =  1.0009136689390412\n",
      "\n",
      "------[---- 2 ----]------\n",
      "\n",
      "a =  0.01629356663858428\n",
      "  x  =  [-0.01891454 -0.01576212 -0.01576212]\n",
      "f(x) =  1.000855013790037\n",
      "\n",
      "------[---- 3 ----]------\n",
      "\n",
      "a =  0.01629356663858428\n",
      "  x  =  [-0.01829764 -0.01524804 -0.01524804]\n",
      "f(x) =  1.0008001288157413\n",
      "\n",
      "скачок[---- 0 ----]скачок\n",
      "a1 =  -0.9849809712926177\n",
      "  x1  =  [4.83294138e-09 4.02745115e-09 4.02745115e-09]\n",
      "f(x1) =  1.0\n",
      "сделано  3  шагов\n",
      "сделано  1  скачков\n",
      "1.0 [4.83294138e-09 4.02745115e-09 4.02745115e-09]\n"
     ]
    },
    {
     "name": "stderr",
     "output_type": "stream",
     "text": [
      "<ipython-input-4-3bf15fb8ebee>:2: RuntimeWarning: overflow encountered in exp\n",
      "  return np.exp(sum(np.square(x)))\n"
     ]
    },
    {
     "data": {
      "text/plain": [
       "''"
      ]
     },
     "execution_count": 9,
     "metadata": {},
     "output_type": "execute_result"
    }
   ],
   "source": [
    "x0 = np.array([1.2, 1, 1])\n",
    "e = 0.05\n",
    "x_min = p_gradient(fx, gradfx, x0, e)\n",
    "print(round(fx(x_min), 3), x_min)\n",
    "''''''"
   ]
  },
  {
   "cell_type": "code",
   "execution_count": 10,
   "metadata": {
    "scrolled": true
   },
   "outputs": [
    {
     "name": "stdout",
     "output_type": "stream",
     "text": [
      "\n",
      "------[---- 1 ----]------\n",
      "\n",
      "a =  0.05883800325890875\n",
      "  x  =  [-0.29542029  0.88232399]\n",
      "f(x) =  1.5639539767249726\n",
      "\n",
      "------[---- 2 ----]------\n",
      "\n",
      "a =  0.05883800325890875\n",
      "  x  =  [0.01745463 0.77849563]\n",
      "f(x) =  0.6087974220673952\n",
      "\n",
      "скачок[---- 0 ----]скачок\n",
      "a1 =  -1.0042739033087158\n",
      "  x1  =  [-0.00384029  0.77754894]\n",
      "f(x1) =  0.6047150862325942\n",
      "\n",
      "------[---- 3 ----]------\n",
      "\n",
      "a =  0.9438476806735299\n",
      "  x  =  [ 0.06140334 -0.69022659]\n",
      "f(x) =  0.5103460789868295\n",
      "\n",
      "------[---- 4 ----]------\n",
      "\n",
      "a =  0.9438476806735299\n",
      "  x  =  [-0.98179392  0.61271094]\n",
      "f(x) =  9.05068845573443\n",
      "\n",
      "скачок[---- 1 ----]скачок\n",
      "a1 =  -0.010929028543020093\n",
      "  x1  =  [-0.01452837  0.77574742]\n",
      "f(x1) =  0.6036837246580706\n",
      "\n",
      "------[---- 5 ----]------\n",
      "\n",
      "a =  0.5509956578416818\n",
      "  x  =  [ 0.12956287 -0.0791195 ]\n",
      "f(x) =  0.157338734825748\n",
      "\n",
      "------[---- 6 ----]------\n",
      "\n",
      "a =  0.5509956578416818\n",
      "  x  =  [-1.15543156  0.0080695 ]\n",
      "f(x) =  12.015263995169338\n",
      "\n",
      "скачок[---- 2 ----]скачок\n",
      "a1 =  -0.03627561684591283\n",
      "  x1  =  [-0.05591534  0.74789943]\n",
      "f(x1) =  0.5874922849466772\n",
      "\n",
      "------[---- 7 ----]------\n",
      "\n",
      "a =  0.11939463220345173\n",
      "  x  =  [0.0642525  0.56930908]\n",
      "f(x) =  0.3612682824280163\n",
      "\n",
      "------[---- 8 ----]------\n",
      "\n",
      "a =  0.11939463220345173\n",
      "  x  =  [-0.07383277  0.43336418]\n",
      "f(x) =  0.2368660129957816\n",
      "\n",
      "скачок[---- 3 ----]скачок\n",
      "a1 =  -2.2217645139178894\n",
      "  x1  =  [-0.09572365  0.04907617]\n",
      "f(x1) =  0.08487562576925102\n",
      "\n",
      "------[---- 9 ----]------\n",
      "\n",
      "a =  0.058918631452172764\n",
      "  x  =  [0.00579467 0.04329317]\n",
      "f(x) =  0.002176502088813841\n",
      "\n",
      "------[---- 10 ----]------\n",
      "\n",
      "a =  0.058918631452172764\n",
      "  x  =  [-0.00035078  0.03819162]\n",
      "f(x) =  0.001459707460968661\n",
      "\n",
      "скачок[---- 4 ----]скачок\n",
      "a1 =  -1.008743347840159\n",
      "  x1  =  [0.0004831  0.03809646]\n",
      "f(x1) =  0.001453440323349906\n",
      "\n",
      "------[---- 11 ----]------\n",
      "\n",
      "a =  0.7224407856119798\n",
      "  x  =  [-0.00579905 -0.01694841]\n",
      "f(x) =  0.0005899096223257066\n",
      "\n",
      "------[---- 12 ----]------\n",
      "\n",
      "a =  0.7224407856119798\n",
      "  x  =  [0.06961143 0.00754004]\n",
      "f(x) =  0.0436686170426701\n",
      "\n",
      "скачок[---- 5 ----]скачок\n",
      "a1 =  -0.019651495659624835\n",
      "  x1  =  [0.00184157 0.03749598]\n",
      "f(x1) =  0.0014364706535403764\n",
      "\n",
      "------[---- 13 ----]------\n",
      "\n",
      "a =  0.18821174681718442\n",
      "  x  =  [-0.00439732  0.02338161]\n",
      "f(x) =  0.0007207278410883065\n",
      "\n",
      "------[---- 14 ----]------\n",
      "\n",
      "a =  0.18821174681718442\n",
      "  x  =  [0.01049998 0.01458022]\n",
      "f(x) =  0.0012048295029644964\n",
      "\n",
      "скачок[---- 6 ----]скачок\n",
      "a1 =  -0.5965296553245022\n",
      "  x1  =  [0.00700657 0.02382605]\n",
      "f(x1) =  0.0010095088392905703\n",
      "\n",
      "------[---- 15 ----]------\n",
      "\n",
      "a =  0.0629893189936403\n",
      "  x  =  [-0.00093753  0.02082448]\n",
      "f(x) =  0.0004415695211195876\n",
      "сделано  15  шагов\n",
      "сделано  7  скачков\n",
      "0.0 [-0.00093753  0.02082448]\n"
     ]
    },
    {
     "data": {
      "text/plain": [
       "''"
      ]
     },
     "execution_count": 10,
     "metadata": {},
     "output_type": "execute_result"
    }
   ],
   "source": [
    "x0 = np.array([5,1])\n",
    "e = 0.05\n",
    "x_min = p_gradient(gx, gradgx, x0, e)\n",
    "print(round(gx(x_min), 3), x_min)\n",
    "''''''"
   ]
  },
  {
   "cell_type": "code",
   "execution_count": 11,
   "metadata": {
    "scrolled": true
   },
   "outputs": [
    {
     "name": "stdout",
     "output_type": "stream",
     "text": [
      "\n",
      "------[---- 1 ----]------\n",
      "\n",
      "a =  0.07257886905127837\n",
      "  x  =  [ 0.         -0.07257867 -0.07257867]\n",
      "f(x) =  1.0105910186477602\n",
      "\n",
      "------[---- 2 ----]------\n",
      "\n",
      "a =  0.07257886905127837\n",
      "  x  =  [ 0.         -0.06193173 -0.06193173]\n",
      "f(x) =  1.0077005775382284\n",
      "\n",
      "------[---- 3 ----]------\n",
      "\n",
      "a =  0.07257886905127837\n",
      "  x  =  [ 0.         -0.05287264 -0.05287264]\n",
      "f(x) =  1.0056066903976044\n",
      "\n",
      "скачок[---- 0 ----]скачок\n",
      "a1 =  -0.9497823061429453\n",
      "  x1  =  [0.00000000e+00 1.99091608e-07 1.99091608e-07]\n",
      "f(x1) =  1.0000000000000793\n",
      "сделано  3  шагов\n",
      "сделано  1  скачков\n",
      "1.0 [0.00000000e+00 1.99091608e-07 1.99091608e-07]\n"
     ]
    }
   ],
   "source": [
    "x0 = np.array([5,1,1])\n",
    "e = 0.05\n",
    "x_min = p_gradient(hx, gradhx, x0, e)\n",
    "print(round(hx(x_min), 3), x_min)"
   ]
  },
  {
   "cell_type": "markdown",
   "metadata": {},
   "source": [
    "# Овражный метод"
   ]
  },
  {
   "cell_type": "code",
   "execution_count": 12,
   "metadata": {},
   "outputs": [],
   "source": [
    "def ravine_gradient(f, grad, x0, e):\n",
    "    x1 = x0 - e*10\n",
    "    n  = 0\n",
    "    n1 = 0\n",
    "    while abs(lg.norm(grad(x0))) > e * 5:\n",
    "        for k in range(len(x0)):\n",
    "            if(abs(lg.norm(grad(x0))) < e * 5):\n",
    "                break\n",
    "            n+=1\n",
    "            print('')\n",
    "            print('------[----', n, '----]------')\n",
    "            \n",
    "            a = mygeom(x0, e/100, grad)\n",
    "            \n",
    "            x0 = x0 - grad(x0) * a\n",
    "            \n",
    "            a = mygeom(x1, e/100, grad)\n",
    "            x1 = x1 - grad(x1) * a\n",
    "            \n",
    "            print('  x0    = ', x0 ,   ' x1    = ', x1 )\n",
    "            print('  f(x0) = ', f(x0), ' f(x1) = ', f(x1) )\n",
    "            \n",
    "        if(abs(lg.norm(grad(x0))) < e * 5):\n",
    "                break\n",
    "                \n",
    "        print('')\n",
    "        print('скачок[----', n1, '----]скачок')\n",
    "        a = grad_descent_a1(f, x0, x1, e / 100)\n",
    "        x0 = x0 - a * (x1-x0) \n",
    "        x1 = x0 - e*10\n",
    "        print('a1 = ', a)\n",
    "        print('  x1  = ', x0)\n",
    "        print('f(x1) = ', f(x0))\n",
    "        n1+=1\n",
    "        \n",
    "    print('сделано ', n, ' шагов')\n",
    "    print('сделано ', n1, ' скачков')\n",
    "    return x0\n"
   ]
  },
  {
   "cell_type": "code",
   "execution_count": 13,
   "metadata": {
    "scrolled": true
   },
   "outputs": [
    {
     "name": "stdout",
     "output_type": "stream",
     "text": [
      "\n",
      "------[---- 1 ----]------\n",
      "  x0    =  [-0.21060878 -0.19556529 -0.15043484]  x1    =  [-0.00648569 -0.00576506 -0.00360316]\n",
      "  f(x0) =  1.1109688616370808  f(x1) =  1.0000882866804481\n",
      "\n",
      "------[---- 2 ----]------\n",
      "  x0    =  [-2.69630891e-05 -2.50371542e-05 -1.92593494e-05]  x1    =  [-0.00648569 -0.00576506 -0.00360316]\n",
      "  f(x0) =  1.0000000017247899  f(x1) =  1.0000882866804481\n",
      "сделано  2  шагов\n",
      "сделано  0  скачков\n",
      "1.0 [-2.69630891e-05 -2.50371542e-05 -1.92593494e-05]\n"
     ]
    }
   ],
   "source": [
    "x0 = np.array([1.4, 1.3, 1])\n",
    "e = 0.05\n",
    "x_min = ravine_gradient(fx, gradfx, x0, e)\n",
    "\n",
    "print(round(fx(x_min), 3), x_min)"
   ]
  },
  {
   "cell_type": "code",
   "execution_count": 14,
   "metadata": {},
   "outputs": [
    {
     "name": "stdout",
     "output_type": "stream",
     "text": [
      "\n",
      "------[---- 1 ----]------\n",
      "  x0    =  [ 0.         -0.00491163 -0.00491163]  x1    =  [ 0.         -0.00121127 -0.00121127]\n",
      "  f(x0) =  1.0000482493717615  f(x1) =  1.0000029343363694\n",
      "сделано  1  шагов\n",
      "сделано  0  скачков\n",
      "1.0 [ 0.         -0.00491163 -0.00491163]\n"
     ]
    }
   ],
   "source": [
    "x0 = np.array([5,1,1])\n",
    "e = 0.05\n",
    "x_min = ravine_gradient(hx, gradhx, x0, e)\n",
    "print(round(hx(x_min), 3), x_min)\n"
   ]
  },
  {
   "cell_type": "code",
   "execution_count": 15,
   "metadata": {},
   "outputs": [
    {
     "name": "stdout",
     "output_type": "stream",
     "text": [
      "\n",
      "------[---- 1 ----]------\n",
      "  x0    =  [-0.32  8.8 ]  x1    =  [-0.3115  8.3505]\n",
      "  f(x0) =  78.3616  f(x1) =  70.60414049999999\n",
      "\n",
      "------[---- 2 ----]------\n",
      "  x0    =  [1.3072 3.828 ]  x1    =  [1.2388355 3.7326735]\n",
      "  f(x0) =  30.032530560000282  f(x1) =  27.745272022144746\n",
      "\n",
      "скачок[---- 0 ----]скачок\n",
      "a1 =  -22.858260994617122\n",
      "  x1  =  [-0.25549358  1.64900198]\n",
      "f(x1) =  3.3067002830289414\n",
      "\n",
      "------[---- 3 ----]------\n",
      "  x0    =  [0.11241718 1.38516167]  x1    =  [0.02644228 1.01686676]\n",
      "  f(x0) =  2.0324114357435157  f(x1) =  1.0403107432367256\n",
      "\n",
      "------[---- 4 ----]------\n",
      "  x0    =  [-0.15569779  1.01809382]  x1    =  [-0.1420479   0.29692509]\n",
      "  f(x0) =  1.2546912516095627  f(x1) =  0.2697629728750749\n",
      "\n",
      "скачок[---- 1 ----]скачок\n",
      "a1 =  -1.4438500249659227\n",
      "  x1  =  [-0.1359894  -0.02316567]\n",
      "f(x1) =  0.16697470336334935\n",
      "\n",
      "------[---- 5 ----]------\n",
      "  x0    =  [ 0.00108792 -0.02057111]  x1    =  [ 0.01081182 -0.46404795]\n",
      "  f(x0) =  0.0004338227025942484  f(x1) =  0.2163925559355663\n",
      "сделано  5  шагов\n",
      "сделано  2  скачков\n",
      "0.0 [ 0.00108792 -0.02057111]\n"
     ]
    }
   ],
   "source": [
    "x0 = np.array([4, 10])\n",
    "e = 0.05\n",
    "x_min = ravine_gradient(gx, gradgx, x0, e)\n",
    "print(round(gx(x_min), 3), x_min)"
   ]
  },
  {
   "cell_type": "markdown",
   "metadata": {},
   "source": [
    "## Модифицированный метод Ньютона"
   ]
  },
  {
   "cell_type": "markdown",
   "metadata": {},
   "source": [
    "## Вспомогательные функции"
   ]
  },
  {
   "cell_type": "code",
   "execution_count": 23,
   "metadata": {},
   "outputs": [],
   "source": [
    "def grad_descent_a3(f, grad, grad2, x, e):\n",
    "    a = 0\n",
    "    df = der1_e(f, x, a, np.dot( lg.inv(grad2fx(x)),gradfx(x)), e)\n",
    "    while e < abs(df(a)):\n",
    "        d2f = der2_e(f, x, a, np.dot( lg.inv(grad2fx(x)),gradfx(x)), e)\n",
    "        a = a - df(a)/d2f(a)\n",
    "        df = der1_e(f, x, a, np.dot( lg.inv(grad2fx(x)),gradfx(x)), e)\n",
    "    return a"
   ]
  },
  {
   "cell_type": "code",
   "execution_count": 24,
   "metadata": {
    "scrolled": true
   },
   "outputs": [],
   "source": [
    "def Newton_gradient(f, grad, grad2, x, e):\n",
    "    n = 0\n",
    "    while abs(lg.norm(grad(x))) > e * 5:\n",
    "        print('')\n",
    "        print('------[----', n, '----]------')\n",
    "        n+=1\n",
    "        p = np.dot(lg.inv(grad2fx(x)),gradfx(x))\n",
    "        a = grad_descent_a3(f, grad, grad2, x, e/100)\n",
    "        print('x', x)\n",
    "        print('a', a)\n",
    "        print('p', p)\n",
    "        x -= a * p\n",
    "    print('сделано ', n, ' шагов')\n",
    "    return x0"
   ]
  },
  {
   "cell_type": "code",
   "execution_count": 26,
   "metadata": {},
   "outputs": [
    {
     "name": "stdout",
     "output_type": "stream",
     "text": [
      "\n",
      "------[---- 0 ----]------\n",
      "x [2. 1. 1.]\n",
      "a 12.994191384948987\n",
      "p [0.15384615 0.07692308 0.07692308]\n",
      "сделано  1  шагов\n",
      "1.0 [0.00089363 0.00044682 0.00044682]\n"
     ]
    }
   ],
   "source": [
    "x0 = np.array([2, 1.0, 1.0])\n",
    "e = 0.05\n",
    "x_min = Newton_gradient(fx, gradfx, grad2fx, x0, e)\n",
    "print(round(fx(x_min), 3), x_min)"
   ]
  },
  {
   "cell_type": "code",
   "execution_count": 27,
   "metadata": {
    "collapsed": true
   },
   "outputs": [
    {
     "name": "stdout",
     "output_type": "stream",
     "text": [
      "\n",
      "------[---- 0 ----]------\n",
      "x [ 4. 10.]\n",
      "a 232.99816191126627\n",
      "p [0.01716738 0.04291845]\n",
      "сделано  1  шагов\n",
      "0.0 [3.15551715e-05 7.88879285e-05]\n"
     ]
    }
   ],
   "source": [
    "x0 = np.array([4., 10.])\n",
    "e = 0.05\n",
    "x_min = Newton_gradient(gx, gradgx,grad2gx, x0, e)\n",
    "print(round(gx(x_min), 3), x_min)"
   ]
  },
  {
   "cell_type": "code",
   "execution_count": 30,
   "metadata": {
    "collapsed": true
   },
   "outputs": [
    {
     "name": "stdout",
     "output_type": "stream",
     "text": [
      "\n",
      "------[---- 0 ----]------\n",
      "x [5.e-14 1.e+00 1.e+00]\n",
      "a 4.999746493614176\n",
      "p [0.09090909 0.18181818 0.18181818]\n",
      "\n",
      "------[---- 1 ----]------\n",
      "x [-4.54522409e-07  9.09551830e-02  9.09551830e-02]\n",
      "a 1.0328401085605683\n",
      "p [-0.04382108  0.08769104  0.08769104]\n",
      "сделано  2  шагов\n",
      "1.0 [0.0004526  0.00038436 0.00038436]\n"
     ]
    }
   ],
   "source": [
    "x0 = np.array([5.0,1.0,1.0])\n",
    "e = 0.05\n",
    "x_min = Newton_gradient(hx, gradhx, grad2hx, x0, e)\n",
    "print(round(hx(x_min), 3), x_min)"
   ]
  },
  {
   "cell_type": "code",
   "execution_count": null,
   "metadata": {},
   "outputs": [],
   "source": []
  }
 ],
 "metadata": {
  "kernelspec": {
   "display_name": "Python 3",
   "language": "python",
   "name": "python3"
  },
  "language_info": {
   "codemirror_mode": {
    "name": "ipython",
    "version": 3
   },
   "file_extension": ".py",
   "mimetype": "text/x-python",
   "name": "python",
   "nbconvert_exporter": "python",
   "pygments_lexer": "ipython3",
   "version": "3.8.3"
  }
 },
 "nbformat": 4,
 "nbformat_minor": 4
}
