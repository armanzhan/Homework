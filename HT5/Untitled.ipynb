{
 "cells": [
  {
   "cell_type": "markdown",
   "metadata": {},
   "source": [
    "# Метод Флетчера-Ривза и метод Полака-Рибьера"
   ]
  },
  {
   "cell_type": "code",
   "execution_count": 1,
   "metadata": {},
   "outputs": [],
   "source": [
    "import numpy as np\n",
    "import numpy.linalg as lg"
   ]
  },
  {
   "cell_type": "markdown",
   "metadata": {},
   "source": [
    "## функция и ее градиенты"
   ]
  },
  {
   "cell_type": "code",
   "execution_count": 2,
   "metadata": {},
   "outputs": [],
   "source": [
    "def fx(x): \n",
    "    return np.exp(sum(np.square(x)))\n",
    "def gradfx(x):\n",
    "    return fx(x) * (2*x) \n",
    "def grad2fx(x):\n",
    "    return fx(x) * 2 * (np.eye(len(x)) + 2 * x.reshape(len(x),1) * x)\n",
    "\n",
    "# овражная функция\n",
    "def hx(x): \n",
    "    x1 = x\n",
    "    x1[0] = x[0]/10\n",
    "    return np.exp(sum(np.square(x1)))\n",
    "def gradhx(x_):\n",
    "    x = x_\n",
    "    x[0] = x[0]/10\n",
    "    return fx(x) * (2*x) \n",
    "def grad2hx(x_):\n",
    "    x = x_\n",
    "    x[0] = x[0]/10\n",
    "    return fx(x) * 2 * (np.eye(len(x)) + 2 * x.reshape(len(x),1) * x)\n",
    "\n",
    "#альтернативная ДВУМЕРНАЯ функция ( для проверки)\n",
    "def gx(x):\n",
    "    k = np.array([3, 1])\n",
    "    return sum(np.square(k * x))\n",
    "def gradgx(x):\n",
    "    k = np.array([18, 2])\n",
    "    return x * k\n",
    "def grad2gx(x):\n",
    "    return np.array([[18 ,0],[0, 2]])"
   ]
  },
  {
   "cell_type": "markdown",
   "metadata": {},
   "source": [
    "## Вспомогательные функции"
   ]
  },
  {
   "cell_type": "markdown",
   "metadata": {},
   "source": [
    "### \"Умные\" производные"
   ]
  },
  {
   "cell_type": "code",
   "execution_count": 19,
   "metadata": {},
   "outputs": [],
   "source": [
    "def func(f, x0, gradx0):\n",
    "    def fun(a):\n",
    "        A = x0 - gradx0 * a\n",
    "        return f(A)\n",
    "    return fun\n",
    "\n",
    "def der1_e(f_, x0, a, gradx0, e):\n",
    "    f_(x0)\n",
    "    f = func(f_, x0, gradx0)\n",
    "    def der(a):\n",
    "        return (f(a + e) - f(a - e)) / (2*e)\n",
    "    return der\n",
    "\n",
    "def der2_e(f_, x0, a, gradx0, e):\n",
    "    df = der1_e(f_, x0, a, gradx0, e)\n",
    "    def der2(a):\n",
    "        return (df(a + e) - df(a - e))/ (2 *e)\n",
    "    return der2"
   ]
  },
  {
   "cell_type": "code",
   "execution_count": 20,
   "metadata": {},
   "outputs": [],
   "source": [
    "def grad_descent_a1(f, x0, vec, e): \n",
    "    a = 0\n",
    "    df = der1_e(f, x0, a, vec, e)\n",
    "    while e < abs(df(a)):\n",
    "        d2f = der2_e(f, x0, a, vec, e)\n",
    "        a = a - df(a)/d2f(a)\n",
    "        df = der1_e(f, x0, a, vec, e)\n",
    "    return a"
   ]
  },
  {
   "cell_type": "markdown",
   "metadata": {},
   "source": [
    "## Флетчер-Ривз"
   ]
  },
  {
   "cell_type": "code",
   "execution_count": 1,
   "metadata": {},
   "outputs": [],
   "source": [
    "def Flatcher_Rivz(f, grad, x, e):\n",
    "    n = 0\n",
    "    d = -grad(x)\n",
    "    while abs(lg.norm(grad(x))) > e:\n",
    "        print('-----', lg.norm(grad(x)))\n",
    "        n+=1\n",
    "        print('')\n",
    "        print('------[----', n, '----]------')\n",
    "        \n",
    "        a = grad_descent_a1(f, x, -d, e/100)\n",
    "        if(n % len(x) != 0):\n",
    "            x += a * d \n",
    "            d = -grad(x)\n",
    "        else:\n",
    "            x += a*d\n",
    "            \n",
    "            b = (lg.norm(grad(x - a*d))/lg.norm(grad(x)))**2\n",
    "            d = -grad(x) + b*d\n",
    "        \n",
    "        print('  x  = ', x)\n",
    "        print('f(x) = ', f(x))\n",
    "        \n",
    "    print('сделано ', n, ' шагов')\n",
    "    \n",
    "    return x"
   ]
  },
  {
   "cell_type": "code",
   "execution_count": 22,
   "metadata": {},
   "outputs": [
    {
     "name": "stdout",
     "output_type": "stream",
     "text": [
      "----- 252.72094202884531\n",
      "\n",
      "------[---- 1 ----]------\n",
      "  x  =  [3.65776631e-10 4.38932002e-10 4.75509632e-10]\n",
      "f(x) =  1.0\n",
      "сделано  1  шагов\n",
      "1.0 [3.65776631e-10 4.38932002e-10 4.75509632e-10]\n"
     ]
    }
   ],
   "source": [
    "x0 = np.array([1.0, 1.2, 1.3])\n",
    "e = 0.0005\n",
    "x_min = Flatcher_Rivz(fx, gradfx, x0, e)\n",
    "print(round(fx(x_min), 3), x_min)"
   ]
  },
  {
   "cell_type": "code",
   "execution_count": 36,
   "metadata": {},
   "outputs": [
    {
     "name": "stdout",
     "output_type": "stream",
     "text": [
      "\n",
      "------[---- 1 ----]------\n",
      "  x  =  [0.02030533 0.88934012]\n",
      "f(x) =  0.7946366053438533\n",
      "\n",
      "------[---- 2 ----]------\n",
      "  x  =  [-0.11761858  0.21813566]\n",
      "f(x) =  0.17209034285214284\n",
      "\n",
      "------[---- 3 ----]------\n",
      "  x  =  [0.00388943 0.19309688]\n",
      "f(x) =  0.03742255397659784\n",
      "сделано  3  шагов\n",
      "0.037 [0.00388943 0.19309688]\n"
     ]
    }
   ],
   "source": [
    "x0 = np.array([5.,1.])\n",
    "e = 0.05\n",
    "x_min = Flatcher_Rivz(gx, gradgx, x0, e)\n",
    "print(round(gx(x_min), 3), x_min)"
   ]
  },
  {
   "cell_type": "code",
   "execution_count": 40,
   "metadata": {
    "collapsed": true
   },
   "outputs": [
    {
     "name": "stdout",
     "output_type": "stream",
     "text": [
      "\n",
      "------[---- 1 ----]------\n",
      "  x  =  [-4.97003767e-07  5.99246549e-03  5.99246549e-03]\n",
      "f(x) =  1.0000718218643334\n",
      "сделано  1  шагов\n",
      "1.0 [-4.97003767e-10  5.99246549e-03  5.99246549e-03]\n"
     ]
    }
   ],
   "source": [
    "x0 = np.array([5.,1.,1.])\n",
    "e = 0.05\n",
    "x_min = Flatcher_Rivz(hx, gradhx, x0, e)\n",
    "print(round(hx(x_min), 3), x_min)"
   ]
  },
  {
   "cell_type": "markdown",
   "metadata": {},
   "source": [
    "## Полак-Рибьер"
   ]
  },
  {
   "cell_type": "code",
   "execution_count": 31,
   "metadata": {},
   "outputs": [],
   "source": [
    "def Polak_Ribier(f, grad, x, e):\n",
    "    n = 0\n",
    "    d = -grad(x)\n",
    "    while abs(lg.norm(grad(x))) > e * 10:\n",
    "        n+=1\n",
    "        print('')\n",
    "        print('------[----', n, '----]------')\n",
    "        \n",
    "        a = grad_descent_a1(f, x, -d, e/100)\n",
    "        if(n % len(x) == 0):\n",
    "            x += a * d \n",
    "            d = -grad(x)\n",
    "        else:\n",
    "            x1 = x\n",
    "            x += a*d\n",
    "            \n",
    "            b = np.dot(grad(x), grad(x) - grad(x1))/np.dot(grad(x1),grad(x1))\n",
    "            #(lg.norm(grad(x - a*d))/lg.norm(grad(x)))**2\n",
    "            d = -grad(x) + b*d\n",
    "        \n",
    "        print('  x  = ', x)\n",
    "        print('f(x) = ', f(x))\n",
    "        \n",
    "    print('сделано ', n, ' шагов')\n",
    "    \n",
    "    return x"
   ]
  },
  {
   "cell_type": "code",
   "execution_count": 32,
   "metadata": {
    "collapsed": true
   },
   "outputs": [
    {
     "name": "stdout",
     "output_type": "stream",
     "text": [
      "\n",
      "------[---- 1 ----]------\n",
      "  x  =  [0.03108913 0.03730695 0.04041586]\n",
      "f(x) =  1.003999762258978\n",
      "сделано  1  шагов\n",
      "1.004 [0.03108913 0.03730695 0.04041586]\n"
     ]
    }
   ],
   "source": [
    "x0 = np.array([1.0, 1.2, 1.3])\n",
    "e = 0.05\n",
    "x_min = Polak_Ribier(fx, gradfx, x0, e)\n",
    "print(round(fx(x_min), 3), x_min)"
   ]
  },
  {
   "cell_type": "code",
   "execution_count": 38,
   "metadata": {
    "collapsed": true
   },
   "outputs": [
    {
     "name": "stdout",
     "output_type": "stream",
     "text": [
      "\n",
      "------[---- 1 ----]------\n",
      "  x  =  [0.02030533 0.88934012]\n",
      "f(x) =  0.7946366053438533\n",
      "\n",
      "------[---- 2 ----]------\n",
      "  x  =  [-0.11761858  0.21813566]\n",
      "f(x) =  0.17209034285214284\n",
      "\n",
      "------[---- 3 ----]------\n",
      "  x  =  [0.00388943 0.19309688]\n",
      "f(x) =  0.03742255397659784\n",
      "сделано  3  шагов\n",
      "0.037 [0.00388943 0.19309688]\n"
     ]
    }
   ],
   "source": [
    "x0 = np.array([5.,1.])\n",
    "e = 0.05\n",
    "x_min = Polak_Ribier(gx, gradgx, x0, e)\n",
    "print(round(gx(x_min), 3), x_min)"
   ]
  },
  {
   "cell_type": "code",
   "execution_count": 39,
   "metadata": {
    "collapsed": true
   },
   "outputs": [
    {
     "name": "stdout",
     "output_type": "stream",
     "text": [
      "\n",
      "------[---- 1 ----]------\n",
      "  x  =  [-4.97003767e-07  5.99246549e-03  5.99246549e-03]\n",
      "f(x) =  1.0000718218643334\n",
      "сделано  1  шагов\n",
      "1.0 [-4.97003767e-10  5.99246549e-03  5.99246549e-03]\n"
     ]
    }
   ],
   "source": [
    "x0 = np.array([5.,1.,1.])\n",
    "e = 0.05\n",
    "x_min = Polak_Ribier(hx, gradhx, x0, e)\n",
    "print(round(hx(x_min), 3), x_min)"
   ]
  }
 ],
 "metadata": {
  "kernelspec": {
   "display_name": "Python 3",
   "language": "python",
   "name": "python3"
  },
  "language_info": {
   "codemirror_mode": {
    "name": "ipython",
    "version": 3
   },
   "file_extension": ".py",
   "mimetype": "text/x-python",
   "name": "python",
   "nbconvert_exporter": "python",
   "pygments_lexer": "ipython3",
   "version": "3.8.3"
  }
 },
 "nbformat": 4,
 "nbformat_minor": 4
}
