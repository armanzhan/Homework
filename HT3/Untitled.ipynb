{
 "cells": [
  {
   "cell_type": "code",
   "execution_count": 158,
   "metadata": {
    "scrolled": false
   },
   "outputs": [],
   "source": [
    "import numpy as np\n",
    "import numpy.linalg as lg"
   ]
  },
  {
   "cell_type": "markdown",
   "metadata": {},
   "source": [
    "## Метод Ньютона-Рафсона (не работает, видимо)"
   ]
  },
  {
   "cell_type": "code",
   "execution_count": 159,
   "metadata": {},
   "outputs": [],
   "source": [
    "def newtonRaphson(a, x, e = 0.05):\n",
    "    \n",
    "    h = f_a(a, x) / df_a(a, x)\n",
    "    while abs(h) >= e:\n",
    "        h = f_a(a, x)/df_a(a, x)\n",
    "        print(' h = ', round(h,4), '/t a = ', round(a,4), '/t f_a(a, x) = ', round( f_a(a, x), 4))\n",
    "        a = a - h\n",
    "    return a"
   ]
  },
  {
   "cell_type": "markdown",
   "metadata": {},
   "source": [
    "## Метод дихотомии"
   ]
  },
  {
   "cell_type": "code",
   "execution_count": 160,
   "metadata": {},
   "outputs": [],
   "source": [
    "def dichotomy(x0, a = 0 ,b = 1,e = 0.01):\n",
    "    size = round((b - a) / e)\n",
    "    a = np.linspace(a,b,size)\n",
    "    f= np.zeros(size)\n",
    "    for i in range(size):\n",
    "        f[i] = np.exp(sum(np.square(x0 - a[i] * gradfx(x0))))\n",
    "    return a[np.argmin(f)]"
   ]
  },
  {
   "cell_type": "markdown",
   "metadata": {},
   "source": [
    "## Мой геометрический метод"
   ]
  },
  {
   "cell_type": "code",
   "execution_count": 168,
   "metadata": {},
   "outputs": [
    {
     "ename": "SyntaxError",
     "evalue": "invalid syntax (<ipython-input-168-de51ccec5f55>, line 10)",
     "output_type": "error",
     "traceback": [
      "\u001b[1;36m  File \u001b[1;32m\"<ipython-input-168-de51ccec5f55>\"\u001b[1;36m, line \u001b[1;32m10\u001b[0m\n\u001b[1;33m    return a-=e\u001b[0m\n\u001b[1;37m            ^\u001b[0m\n\u001b[1;31mSyntaxError\u001b[0m\u001b[1;31m:\u001b[0m invalid syntax\n"
     ]
    }
   ],
   "source": [
    "def mygeom(x0, e):\n",
    "    a = 0\n",
    "    scalar = sum(gradfx(x0)*gradfx(x0 - a * gradfx(x0)))\n",
    "    while scalar > e:\n",
    "        a+=e\n",
    "        scalar1 = sum(gradfx(x0)*gradfx(x0 - a * gradfx(x0)))\n",
    "        scalar = scalar1\n",
    "        if scalar1 > scalar:\n",
    "            break\n",
    "    return a-=e"
   ]
  },
  {
   "cell_type": "markdown",
   "metadata": {},
   "source": [
    "## Функции от альфа"
   ]
  },
  {
   "cell_type": "code",
   "execution_count": 162,
   "metadata": {},
   "outputs": [],
   "source": [
    "def f_a(a, x0):\n",
    "    return np.exp(sum(np.square(x0 - a * gradfx(x0))))\n",
    "def df_a(a, x0):\n",
    "    return f_a(a, x0) * 2 * sum(x0 - a * gradfx(x0)) * (-sum(gradfx(x0)))"
   ]
  },
  {
   "cell_type": "markdown",
   "metadata": {},
   "source": [
    "## Функция и ее графиент"
   ]
  },
  {
   "cell_type": "code",
   "execution_count": 163,
   "metadata": {},
   "outputs": [],
   "source": [
    "def fx(x): \n",
    "    return np.exp(sum(np.square(x)))\n",
    "def gradfx(x):\n",
    "    return fx(x) * (2*x) "
   ]
  },
  {
   "cell_type": "markdown",
   "metadata": {},
   "source": [
    "# Метод наискорейшего градиентного спуска"
   ]
  },
  {
   "cell_type": "code",
   "execution_count": 169,
   "metadata": {},
   "outputs": [],
   "source": [
    "def min_gradient( x0 = np.array([1,1,1]), e = 0.05):\n",
    "    n = 0\n",
    "    #a = 0.1\n",
    "    while abs(lg.norm(gradfx(x0))) > e:\n",
    "        n+=1\n",
    "        #a = newtonRaphson(a, x0, e/10)\n",
    "        #a = dichotomy(x0, 0, 1, e)\n",
    "        a = mygeom(x0, e)\n",
    "        print('------[----', n, '----]------')\n",
    "        print('   x  = ', x0)\n",
    "        print('fx(x) = ', fx(x0))\n",
    "        x0 = x0 - a * gradfx(x0)\n",
    "    print('сделано ', n, ' шагов')\n",
    "    return x0"
   ]
  },
  {
   "cell_type": "code",
   "execution_count": 172,
   "metadata": {
    "scrolled": true
   },
   "outputs": [
    {
     "name": "stdout",
     "output_type": "stream",
     "text": [
      "------[---- 1 ----]------\n",
      "   x  =  [0.3 0.4 0.5]\n",
      "fx(x) =  1.6487212707001282\n",
      "------[---- 2 ----]------\n",
      "   x  =  [-0.19461638 -0.25948851 -0.32436064]\n",
      "fx(x) =  1.2341958736129364\n",
      "сделано  2  шагов\n",
      "1.0116078896887417 [0.04557835 0.06077114 0.07596392]\n"
     ]
    }
   ],
   "source": [
    "x0 = np.array([0.3, 0.4, 0.5])\n",
    "e = 0.5\n",
    "x_min = min_gradient(x0, e)\n",
    "print(fx(x_min), x_min)\n",
    "#print (f_a(a, x0) * 2 * sum(x0 - a * gradfx(x0)) * (-sum(gradfx(x0))))\n",
    "#print( f_a(a, x0)/df_a(a, x0))"
   ]
  },
  {
   "cell_type": "markdown",
   "metadata": {},
   "source": [
    "# Градиентный метод с постоянным шагом"
   ]
  },
  {
   "cell_type": "code",
   "execution_count": 72,
   "metadata": {},
   "outputs": [],
   "source": [
    "def const_step_gradient( x0 = np.array([0.1,0.1,0.1]), e = 0.05):\n",
    "    n = 0\n",
    "    while abs(lg.norm(gradfx(x0))) > e:\n",
    "        n+=1\n",
    "        a = 0.01\n",
    "        x0 = x0 - a * gradfx(x0)\n",
    "    print('сделано ', n, ' шагов')\n",
    "    return x0"
   ]
  },
  {
   "cell_type": "code",
   "execution_count": 84,
   "metadata": {},
   "outputs": [
    {
     "name": "stdout",
     "output_type": "stream",
     "text": [
      "сделано  240  шагов\n",
      "1.0 [0.00282917 0.00282917 0.00282917]\n"
     ]
    }
   ],
   "source": [
    "x0 = np.array([0.5, 0.5, 0.5])\n",
    "e = 0.01\n",
    "x_min = const_step_gradient(x0, e)\n",
    "print(round(fx(x_min), 3), x_min)"
   ]
  },
  {
   "cell_type": "markdown",
   "metadata": {},
   "source": [
    "# Градиентный спуск с заранее заданным шагом"
   ]
  },
  {
   "cell_type": "code",
   "execution_count": 74,
   "metadata": {},
   "outputs": [],
   "source": [
    "def q(n):\n",
    "    return 1/n\n",
    "def seqtion_step_gradient( x0 = np.array([0.1,0.1,0.1]), e = 0.05):\n",
    "    n = 0\n",
    "    while abs(lg.norm(gradfx(x0))) > e:\n",
    "        n+=1\n",
    "        a = q(n)\n",
    "        x0 = x0 - a * gradfx(x0)\n",
    "        \n",
    "    print('сделано ', n, ' шагов')\n",
    "    return x0"
   ]
  },
  {
   "cell_type": "code",
   "execution_count": 83,
   "metadata": {
    "scrolled": true
   },
   "outputs": [
    {
     "name": "stdout",
     "output_type": "stream",
     "text": [
      "сделано  10  шагов\n",
      "1.0 [0.002 0.002 0.003]\n"
     ]
    }
   ],
   "source": [
    "x0 = np.array([0.2, 0.2, 0.3])\n",
    "e = 0.01\n",
    "x_min = seqtion_step_gradient(x0, e)\n",
    "print(round(fx(x_min), 3), np.around(x_min, 3))"
   ]
  },
  {
   "cell_type": "markdown",
   "metadata": {},
   "source": [
    "# Градиентный метод с дроблением шага"
   ]
  },
  {
   "cell_type": "code",
   "execution_count": 76,
   "metadata": {},
   "outputs": [],
   "source": [
    "def q(n):\n",
    "    return 1/n\n",
    "def div_step_gradient( x0 = np.array([0.1,0.1,0.1]), e = 0.05, k = 0.8):\n",
    "    n = 0\n",
    "    a = 0.5\n",
    "    while abs(lg.norm(gradfx(x0))) > e:\n",
    "        n+=1\n",
    "        if fx(x0 - a * gradfx(x0)) - fx(x0) > -a * e * lg.norm(sum(gradfx(x0))):\n",
    "            a = a * k\n",
    "        x0 = x0 - a * gradfx(x0)\n",
    "        \n",
    "    print('сделано ', n, ' шагов')\n",
    "    return x0"
   ]
  },
  {
   "cell_type": "code",
   "execution_count": 78,
   "metadata": {
    "scrolled": true
   },
   "outputs": [
    {
     "name": "stdout",
     "output_type": "stream",
     "text": [
      "сделано  4  шагов\n",
      "1.0 [0.002 0.002 0.002]\n"
     ]
    }
   ],
   "source": [
    "x0 = np.array([0.5, 0.5, 0.5])\n",
    "e = 0.01\n",
    "k = 0.5\n",
    "x_min = div_step_gradient(x0, e)\n",
    "print(round(fx(x_min), 3), np.around(x_min, 3))"
   ]
  },
  {
   "cell_type": "code",
   "execution_count": null,
   "metadata": {},
   "outputs": [],
   "source": []
  }
 ],
 "metadata": {
  "kernelspec": {
   "display_name": "Python 3",
   "language": "python",
   "name": "python3"
  },
  "language_info": {
   "codemirror_mode": {
    "name": "ipython",
    "version": 3
   },
   "file_extension": ".py",
   "mimetype": "text/x-python",
   "name": "python",
   "nbconvert_exporter": "python",
   "pygments_lexer": "ipython3",
   "version": "3.8.3"
  }
 },
 "nbformat": 4,
 "nbformat_minor": 4
}
