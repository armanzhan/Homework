{
 "cells": [
  {
   "cell_type": "markdown",
   "metadata": {},
   "source": [
    "# Методы первого порядка"
   ]
  },
  {
   "cell_type": "code",
   "execution_count": 1,
   "metadata": {},
   "outputs": [],
   "source": [
    "import numpy as np\n",
    "import numpy.linalg as lg"
   ]
  },
  {
   "cell_type": "markdown",
   "metadata": {},
   "source": [
    "## Данная плоская функция (+ мои тестовые)"
   ]
  },
  {
   "cell_type": "code",
   "execution_count": 2,
   "metadata": {},
   "outputs": [],
   "source": [
    "def f_(x):\n",
    "    return 0.5 * x ** 7 - x ** 3 + 0.5 * x ** 2 - x\n",
    "\n",
    "def g_(x):\n",
    "    return x ** 2\n",
    "\n",
    "def h_(x):\n",
    "    return 0.5 * x ** 6 - x ** 3 + 0.5 * x ** 2 - x\n"
   ]
  },
  {
   "cell_type": "markdown",
   "metadata": {},
   "source": [
    "## \"Умные\" производные (плоский случай)"
   ]
  },
  {
   "cell_type": "code",
   "execution_count": 3,
   "metadata": {},
   "outputs": [],
   "source": [
    "def der1(f, e):\n",
    "    def der(x):\n",
    "        return (f(x + e) - f(x)) / e\n",
    "    return der\n",
    "\n",
    "def der2(f, e):\n",
    "    df = der1(f, e)\n",
    "    def der2(x):\n",
    "        return (df(x + e) - df(x)) / e\n",
    "    return der2"
   ]
  },
  {
   "cell_type": "markdown",
   "metadata": {},
   "source": [
    "## Метод касательных"
   ]
  },
  {
   "cell_type": "code",
   "execution_count": 4,
   "metadata": {},
   "outputs": [],
   "source": [
    "def tangent(f, a_, b_, e):\n",
    "    a = a_\n",
    "    b = b_\n",
    "    df = der1(f, e)\n",
    "    if not(f(a) >= 0 and f(b) <= 0):\n",
    "        c = ( f(b) - f(a) + df(a) * a - df(b) * b) / ( df(a) - df(b) )\n",
    "        while abs(b - a) > e and df(c) > e and abs(f(b) - f(a)) > e:\n",
    "            if df(c) > 0:\n",
    "                b = c\n",
    "            else:\n",
    "                a = c\n",
    "            c = ( f(b) - f(a) + df(a) * a - df(b) * b ) / ( df(a) - df(b) )\n",
    "    return c"
   ]
  },
  {
   "cell_type": "code",
   "execution_count": 5,
   "metadata": {},
   "outputs": [
    {
     "name": "stdout",
     "output_type": "stream",
     "text": [
      "1.0506541346069636 -0.9518829159541643\n"
     ]
    }
   ],
   "source": [
    "a = 1\n",
    "b = 1.5\n",
    "e = 0.05\n",
    "x_min = tangent(f_, a, b, e)\n",
    "print(x_min, f_(x_min))"
   ]
  },
  {
   "cell_type": "markdown",
   "metadata": {},
   "source": [
    "## Метод Ньютона-Рафсона"
   ]
  },
  {
   "cell_type": "code",
   "execution_count": 6,
   "metadata": {},
   "outputs": [],
   "source": [
    "def Newton_Rafson(f, x, e):\n",
    "    \n",
    "    df = der1(f, e)\n",
    "    while e < abs(df(x)):\n",
    "        d2f = der2(f, e)\n",
    "        x = x - df(x) / d2f(x)\n",
    "        df = der1(f, e)\n",
    "    return x"
   ]
  },
  {
   "cell_type": "code",
   "execution_count": 7,
   "metadata": {
    "scrolled": true
   },
   "outputs": [
    {
     "name": "stdout",
     "output_type": "stream",
     "text": [
      "0.9406581908773792 -1.0047378588390956\n"
     ]
    }
   ],
   "source": [
    "x0 = 3\n",
    "e = 0.05\n",
    "x_min = Newton_Rafson(f_, x0, e)\n",
    "print(x_min, f_(x_min))"
   ]
  },
  {
   "cell_type": "markdown",
   "metadata": {},
   "source": [
    "## Метод секущих"
   ]
  },
  {
   "cell_type": "code",
   "execution_count": 8,
   "metadata": {},
   "outputs": [],
   "source": [
    "def secant(f, x, e):\n",
    "    x_ = x;\n",
    "    e = 0.05;\n",
    "    df = der1(f, e)\n",
    "    if e < abs(df(x)):\n",
    "        d2f = der2(f, e)\n",
    "        x = x - df(x) / d2f(x)\n",
    "        \n",
    "        while  abs(df(x)) < e:\n",
    "            x = x - (x - x_) / (df(x) - df(x_)) * df(x)\n",
    "    return x"
   ]
  },
  {
   "cell_type": "code",
   "execution_count": 9,
   "metadata": {},
   "outputs": [
    {
     "name": "stdout",
     "output_type": "stream",
     "text": [
      "0.9563258220120603 -1.0078901348763478\n"
     ]
    }
   ],
   "source": [
    "x0 = 1;\n",
    "xi_ = x0;\n",
    "x_min = secant(f_, x0, e)\n",
    "print(x_min, f_(x_min))"
   ]
  },
  {
   "cell_type": "markdown",
   "metadata": {},
   "source": [
    "## Данная многомерня функция"
   ]
  },
  {
   "cell_type": "code",
   "execution_count": 10,
   "metadata": {},
   "outputs": [],
   "source": [
    "def fx(x): \n",
    "    return np.exp(sum(np.square(x)))\n",
    "def gradfx(x):\n",
    "    return fx(x) * (2*x) \n",
    "def grad2fx(x):\n",
    "    return fx(x) * 2 * (np.eye(len(x)) + 2 * x.reshape(len(x),1) * x)\n",
    "\n",
    "#Сжатая относительно оси Ox1 функция f(x) \n",
    "def hx(x): \n",
    "    x1 = x\n",
    "    x1[0] = x[0]/10\n",
    "    return np.exp(sum(np.square(x1)))\n",
    "def gradhx(x_):\n",
    "    x = x_\n",
    "    x[0] = x[0]/10\n",
    "    return fx(x) * (2*x) \n",
    "def grad2hx(x_):\n",
    "    x = x_\n",
    "    x[0] = x[0]/10\n",
    "    return fx(x) * 2 * (np.eye(len(x)) + 2 * x.reshape(len(x),1) * x)\n",
    "\n",
    "#альтернативная ДВУМЕРНАЯ функция ( для проверки)\n",
    "def gx(x):\n",
    "    k = np.array([3, 1])\n",
    "    return sum(np.square(k * x))\n",
    "def gradgx(x):\n",
    "    k = np.array([18, 2])\n",
    "    return x * k\n",
    "def grad2gx(x):\n",
    "    return np.array([[18 ,0],[0, 2]])\n"
   ]
  },
  {
   "cell_type": "markdown",
   "metadata": {},
   "source": [
    "## \"Умные\" производные (многомерный случай)"
   ]
  },
  {
   "cell_type": "code",
   "execution_count": 11,
   "metadata": {},
   "outputs": [],
   "source": [
    "def func(f, x0, gradx0):\n",
    "    def fun(a):\n",
    "        A = x0 -  gradx0 * a\n",
    "        return f(A)\n",
    "    return fun\n",
    "\n",
    "def der1_e(f_, x0, a, gradx0, e):\n",
    "    f_(x0)\n",
    "    f = func(f_, x0, gradx0)\n",
    "    def der(a):\n",
    "        return (f(a + e) - f(a)) / e\n",
    "    return der\n",
    "\n",
    "def der2_e(f_, x0, a, gradx0, e):\n",
    "    df = der1_e(f_, x0, a, gradx0, e)\n",
    "    def der2(a):\n",
    "        return (df(a + e) - df(a))/e\n",
    "    return der2"
   ]
  },
  {
   "cell_type": "markdown",
   "metadata": {},
   "source": [
    "## Метод покоординатного спуска"
   ]
  },
  {
   "cell_type": "code",
   "execution_count": 12,
   "metadata": {},
   "outputs": [],
   "source": [
    "def coord(_f, grad, x, e):\n",
    "    print('')\n",
    "    i = 0\n",
    "    n = 0\n",
    "    \n",
    "    while True:\n",
    "        n += 1 \n",
    "        print('')\n",
    "        print('------[----', n, '----]------')\n",
    "        \n",
    "        zero = np.zeros(len(x))\n",
    "        zero[i] = 1\n",
    "        \n",
    "        f = func(_f, x, zero)\n",
    "        a = Newton_Rafson(f, x, e)\n",
    "        x_1 = x\n",
    "        x = x -  zero * a\n",
    "        print('  i  = ', i)\n",
    "        print('  x  = ', x)\n",
    "        print('f(x) = ', f(x))\n",
    "        \n",
    "        i = (i + 1) % len(x)\n",
    "        \n",
    "        if abs(_f(x) - _f(x_1)) < e and abs(lg.norm(x - x_1)) < e:\n",
    "            break\n",
    "        \n",
    "    print('сделано ', n, ' шагов')\n",
    "    return x\n",
    "\n"
   ]
  },
  {
   "cell_type": "code",
   "execution_count": 13,
   "metadata": {},
   "outputs": [
    {
     "name": "stdout",
     "output_type": "stream",
     "text": [
      "\n",
      "\n",
      "------[---- 1 ----]------\n",
      "  i  =  0\n",
      "  x  =  [0.0049985 0.3       1.       ]\n",
      "f(x) =  8.166349452318341\n",
      "grad =  [0.02973456 1.78460903 5.94869677]\n",
      "\n",
      "------[---- 2 ----]------\n",
      "  i  =  1\n",
      "  x  =  [0.0049985 0.0049985 1.       ]\n",
      "f(x) =  2.965515472680092\n",
      "grad =  [0.02717602 0.02717602 5.43683533]\n",
      "\n",
      "------[---- 3 ----]------\n",
      "  i  =  2\n",
      "  x  =  [0.0049985 0.0049985 0.0049985]\n",
      "f(x) =  2.691444274270289\n",
      "grad =  [0.00999775 0.00999775 0.00999775]\n",
      "\n",
      "------[---- 4 ----]------\n",
      "  i  =  0\n",
      "  x  =  [0.0049985 0.0049985 0.0049985]\n",
      "f(x) =  1.0000499712585194\n",
      "grad =  [0.00999775 0.00999775 0.00999775]\n",
      "сделано  4  шагов\n",
      "answer:\n",
      "1.0 [0.0049985 0.0049985 0.0049985]\n",
      "\n",
      "\n",
      "------[---- 1 ----]------\n",
      "  i  =  0\n",
      "  x  =  [0.005 0.3  ]\n",
      "f(x) =  9.180224999999998\n",
      "grad =  [0.09 0.6 ]\n",
      "\n",
      "------[---- 2 ----]------\n",
      "  i  =  1\n",
      "  x  =  [0.005 0.005]\n",
      "f(x) =  0.08724999999999998\n",
      "grad =  [0.09 0.01]\n",
      "\n",
      "------[---- 3 ----]------\n",
      "  i  =  0\n",
      "  x  =  [0.005 0.005]\n",
      "f(x) =  2.5000000000000045e-05\n",
      "grad =  [0.09 0.01]\n",
      "сделано  3  шагов\n",
      "answer:\n",
      "0.0 [0.005 0.005]\n",
      "\n",
      "\n",
      "------[---- 1 ----]------\n",
      "  i  =  0\n",
      "  x  =  [0.  0.3 0.4]\n",
      "f(x) =  1.2969300866657718\n",
      "grad =  [0.         0.77041525 1.02722033]\n",
      "\n",
      "------[---- 2 ----]------\n",
      "  i  =  1\n",
      "  x  =  [0.        0.0049985 0.4      ]\n",
      "f(x) =  1.2802122504386844\n",
      "grad =  [0.         0.01173188 0.93883215]\n",
      "\n",
      "------[---- 3 ----]------\n",
      "  i  =  2\n",
      "  x  =  [0.        0.0049985 0.0049985]\n",
      "f(x) =  1.16888601321149\n",
      "grad =  [0.        0.0099975 0.0099975]\n",
      "\n",
      "------[---- 4 ----]------\n",
      "  i  =  0\n",
      "  x  =  [0.        0.0049985 0.0049985]\n",
      "f(x) =  1.0000499712585191\n",
      "grad =  [0.        0.0099975 0.0099975]\n",
      "сделано  4  шагов\n",
      "answer:\n",
      "1.0 [0.        0.0049985 0.0049985]\n"
     ]
    }
   ],
   "source": [
    "x0 = np.array([-1.0, 0.3, 1.])\n",
    "e = 0.01\n",
    "x_min = coord(fx,gradfx, x0, e)\n",
    "print('answer:')\n",
    "print(round(fx(x_min), 3), x_min)\n",
    "\n",
    "x0 = np.array([-1.0, 0.3])\n",
    "e = 0.01\n",
    "x_min = coord(gx,gradgx, x0, e)\n",
    "print('answer:')\n",
    "print(round(gx(x_min), 3), x_min)\n",
    "\n",
    "x0 = np.array([-1.0, 0.3, 0.4])\n",
    "e = 0.01\n",
    "x_min = coord(hx,gradhx, x0, e)\n",
    "print('answer:')\n",
    "print(round(hx(x_min), 3), x_min)"
   ]
  },
  {
   "cell_type": "code",
   "execution_count": null,
   "metadata": {},
   "outputs": [],
   "source": []
  },
  {
   "cell_type": "code",
   "execution_count": null,
   "metadata": {},
   "outputs": [],
   "source": []
  }
 ],
 "metadata": {
  "kernelspec": {
   "display_name": "Python 3",
   "language": "python",
   "name": "python3"
  },
  "language_info": {
   "codemirror_mode": {
    "name": "ipython",
    "version": 3
   },
   "file_extension": ".py",
   "mimetype": "text/x-python",
   "name": "python",
   "nbconvert_exporter": "python",
   "pygments_lexer": "ipython3",
   "version": "3.8.3"
  }
 },
 "nbformat": 4,
 "nbformat_minor": 4
}
