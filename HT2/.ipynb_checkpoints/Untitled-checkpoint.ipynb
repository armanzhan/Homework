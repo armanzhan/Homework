{
 "cells": [
  {
   "cell_type": "markdown",
   "metadata": {},
   "source": [
    "# Методы первого порядка"
   ]
  },
  {
   "cell_type": "code",
   "execution_count": 2,
   "metadata": {},
   "outputs": [],
   "source": [
    "import numpy as np\n",
    "import numpy.linalg as lg"
   ]
  },
  {
   "cell_type": "markdown",
   "metadata": {},
   "source": [
    "## Данная плоская функция (+ мои тестовые)"
   ]
  },
  {
   "cell_type": "code",
   "execution_count": 3,
   "metadata": {},
   "outputs": [],
   "source": [
    "def f_(x):\n",
    "    return 0.5 * x ** 7 - x ** 3 + 0.5 * x ** 2 - x\n",
    "\n",
    "def g_(x):\n",
    "    return x ** 2\n",
    "\n",
    "def h_(x):\n",
    "    return 0.5 * x ** 6 - x ** 3 + 0.5 * x ** 2 - x\n"
   ]
  },
  {
   "cell_type": "markdown",
   "metadata": {},
   "source": [
    "## \"Умные\" производные (плоский случай)"
   ]
  },
  {
   "cell_type": "code",
   "execution_count": 4,
   "metadata": {},
   "outputs": [],
   "source": [
    "def der1(f, e):\n",
    "    def der(x):\n",
    "        return (f(x + e) - f(x)) / e\n",
    "    return der\n",
    "\n",
    "def der2(f, e):\n",
    "    df = der1(f, e)\n",
    "    def der2(x):\n",
    "        return (df(x + e) - df(x)) / e\n",
    "    return der2"
   ]
  },
  {
   "cell_type": "markdown",
   "metadata": {},
   "source": [
    "## Метод касательных"
   ]
  },
  {
   "cell_type": "code",
   "execution_count": 5,
   "metadata": {},
   "outputs": [],
   "source": [
    "def tangent(f, a_, b_, e):\n",
    "    a = a_\n",
    "    b = b_\n",
    "    df = der1(f, e)\n",
    "    if not(f(a) >= 0 and f(b) <= 0):\n",
    "        c = ( f(b) - f(a) + df(a) * a - df(b) * b) / ( df(a) - df(b) )\n",
    "        while abs(b - a) > e and df(c) > e and abs(f(b) - f(a)) > e:\n",
    "            if df(c) > 0:\n",
    "                b = c\n",
    "            else:\n",
    "                a = c\n",
    "            c = ( f(b) - f(a) + df(a) * a - df(b) * b ) / ( df(a) - df(b) )\n",
    "    return c"
   ]
  },
  {
   "cell_type": "code",
   "execution_count": 6,
   "metadata": {},
   "outputs": [
    {
     "name": "stdout",
     "output_type": "stream",
     "text": [
      "1.0506541346069636 -0.9518829159541643\n"
     ]
    }
   ],
   "source": [
    "a = 1\n",
    "b = 1.5\n",
    "e = 0.05\n",
    "x_min = tangent(f_, a, b, e)\n",
    "print(x_min, f_(x_min))"
   ]
  },
  {
   "cell_type": "markdown",
   "metadata": {},
   "source": [
    "## Метод Ньютона-Рафсона"
   ]
  },
  {
   "cell_type": "code",
   "execution_count": 7,
   "metadata": {},
   "outputs": [],
   "source": [
    "def Newton_Rafson(f, x, e):\n",
    "    \n",
    "    df = der1(f, e)\n",
    "    while e < abs(df(x)):\n",
    "        d2f = der2(f, e)\n",
    "        x = x - df(x) / d2f(x)\n",
    "        df = der1(f, e)\n",
    "    return x"
   ]
  },
  {
   "cell_type": "code",
   "execution_count": 8,
   "metadata": {
    "scrolled": true
   },
   "outputs": [
    {
     "name": "stdout",
     "output_type": "stream",
     "text": [
      "0.9406581908773792 -1.0047378588390956\n"
     ]
    }
   ],
   "source": [
    "x0 = 3\n",
    "e = 0.05\n",
    "x_min = Newton_Rafson(f_, x0, e)\n",
    "print(x_min, f_(x_min))"
   ]
  },
  {
   "cell_type": "markdown",
   "metadata": {},
   "source": [
    "## Метод секущих"
   ]
  },
  {
   "cell_type": "code",
   "execution_count": 9,
   "metadata": {},
   "outputs": [],
   "source": [
    "def secant(f, x, e):\n",
    "    x_ = x;\n",
    "    e = 0.05;\n",
    "    df = der1(f, e)\n",
    "    if e < abs(df(x)):\n",
    "        d2f = der2(f, e)\n",
    "        x = x - df(x) / d2f(x)\n",
    "        \n",
    "        while  abs(df(x)) < e:\n",
    "            x = x - (x - x_) / (df(x) - df(x_)) * df(x)\n",
    "    return x"
   ]
  },
  {
   "cell_type": "code",
   "execution_count": 10,
   "metadata": {},
   "outputs": [
    {
     "name": "stdout",
     "output_type": "stream",
     "text": [
      "0.9563258220120603 -1.0078901348763478\n"
     ]
    }
   ],
   "source": [
    "x0 = 1;\n",
    "xi_ = x0;\n",
    "x_min = secant(f_, x0, e)\n",
    "print(x_min, f_(x_min))"
   ]
  },
  {
   "cell_type": "markdown",
   "metadata": {},
   "source": [
    "## Данная многомерня функция"
   ]
  },
  {
   "cell_type": "code",
   "execution_count": 23,
   "metadata": {},
   "outputs": [],
   "source": [
    "def fx(x): \n",
    "    return np.exp(sum(np.square(x)))\n",
    "def gradfx(x):\n",
    "    return fx(x) * (2*x) \n",
    "def grad2fx(x):\n",
    "    return fx(x) * 2 * (np.eye(len(x)) + 2 * x.reshape(len(x),1) * x)\n",
    "\n",
    "#Сжатая относительно оси Ox1 функция f(x) \n",
    "def hx(x): \n",
    "    x1 = x\n",
    "    x1[0] = x[0]/10\n",
    "    return np.exp(sum(np.square(x1)))\n",
    "def gradhx(x_):\n",
    "    x = x_\n",
    "    x[0] = x[0]/10\n",
    "    return fx(x) * (2*x) \n",
    "def grad2hx(x_):\n",
    "    x = x_\n",
    "    x[0] = x[0]/10\n",
    "    return fx(x) * 2 * (np.eye(len(x)) + 2 * x.reshape(len(x),1) * x)\n",
    "\n",
    "#альтернативная ДВУМЕРНАЯ функция ( для проверки)\n",
    "def gx(x):\n",
    "    k = np.array([3, 1])\n",
    "    return sum(np.square(k * x))\n",
    "def gradgx(x):\n",
    "    k = np.array([18, 2])\n",
    "    return x * k\n",
    "def grad2gx(x):\n",
    "    return np.array([[18 ,0],[0, 2]])\n"
   ]
  },
  {
   "cell_type": "markdown",
   "metadata": {},
   "source": [
    "## \"Умные\" производные (многомерный случай)"
   ]
  },
  {
   "cell_type": "code",
   "execution_count": 24,
   "metadata": {},
   "outputs": [],
   "source": [
    "def func(f, x0, gradx0):\n",
    "    def fun(a):\n",
    "        A = x0 -  gradx0 * a\n",
    "        return f(A)\n",
    "    return fun\n",
    "\n",
    "def der1_e(f_, x0, a, gradx0, e):\n",
    "    f_(x0)\n",
    "    f = func(f_, x0, gradx0)\n",
    "    def der(a):\n",
    "        return (f(a + e) - f(a)) / e\n",
    "    return der\n",
    "\n",
    "def der2_e(f_, x0, a, gradx0, e):\n",
    "    df = der1_e(f_, x0, a, gradx0, e)\n",
    "    def der2(a):\n",
    "        return (df(a + e) - df(a))/e\n",
    "    return der2"
   ]
  },
  {
   "cell_type": "markdown",
   "metadata": {},
   "source": [
    "## Метод покоординатного спуска"
   ]
  },
  {
   "cell_type": "code",
   "execution_count": 52,
   "metadata": {},
   "outputs": [],
   "source": [
    "def coord(_f, grad, x, e):\n",
    "    print('')\n",
    "    i = 0\n",
    "    n = 0\n",
    "    \n",
    "    while True:\n",
    "        n += 1 \n",
    "        print('')\n",
    "        print('------[----', n, '----]------')\n",
    "        zero = np.zeros(len(x))\n",
    "        zero[i] = 1\n",
    "        f = func(_f, x, zero * grad(x))\n",
    "        a = Newton_Rafson(f, x, e)\n",
    "        x_1 = x\n",
    "        x = x -  zero * grad(x) * a\n",
    "        print('  i  = ', i)\n",
    "        print('  x  = ', x)\n",
    "        print('f(x) = ', f(x))\n",
    "        print('grad = ', grad(x))\n",
    "        \n",
    "        i = (i + 1) % len(x)\n",
    "        \n",
    "        if abs(_f(x) - _f(x_1)) < e and abs(lg.norm(x - x_1)) < e:\n",
    "            break\n",
    "        \n",
    "    print('сделано ', n, ' шагов')\n",
    "    return x"
   ]
  },
  {
   "cell_type": "code",
   "execution_count": 56,
   "metadata": {},
   "outputs": [
    {
     "name": "stdout",
     "output_type": "stream",
     "text": [
      "\n",
      "\n",
      "------[---- 1 ----]------\n",
      "  i  =  0\n",
      "  x  =  [-0.08084566  0.3         1.        ]\n",
      "f(x) =  609.9955397214063\n",
      "grad =  [-0.48406787  1.7962666   5.98755532]\n",
      "\n",
      "------[---- 2 ----]------\n",
      "  i  =  1\n",
      "  x  =  [-0.08084566  0.00887036  1.        ]\n",
      "f(x) =  2.966046074748182\n",
      "grad =  [-0.44243954  0.04854433  5.47264412]\n",
      "\n",
      "------[---- 3 ----]------\n",
      "  i  =  2\n",
      "  x  =  [-0.08084566  0.00887036  0.02735785]\n",
      "f(x) =  2.074232472348063\n",
      "grad =  [-0.16288628  0.01787183  0.05512006]\n",
      "\n",
      "------[---- 4 ----]------\n",
      "  i  =  0\n",
      "  x  =  [-0.00236488  0.00887036  0.02735785]\n",
      "f(x) =  1.007453227030438\n",
      "grad =  [-0.00473369  0.0177555   0.05476128]\n",
      "\n",
      "------[---- 5 ----]------\n",
      "  i  =  1\n",
      "  x  =  [-0.00236488  0.00871286  0.02735785]\n",
      "f(x) =  1.000830351705463\n",
      "grad =  [-0.00473368  0.0174402   0.05476112]\n",
      "сделано  5  шагов\n",
      "answer:\n",
      "1.001 [-0.00236488  0.00871286  0.02735785]\n",
      "\n",
      "\n",
      "------[---- 1 ----]------\n",
      "  i  =  0\n",
      "  x  =  [-0.09  0.3 ]\n",
      "f(x) =  61.8696000009412\n",
      "grad =  [-1.62  0.6 ]\n",
      "\n",
      "------[---- 2 ----]------\n",
      "  i  =  1\n",
      "  x  =  [-0.09   0.003]\n",
      "f(x) =  0.1618232400017947\n",
      "grad =  [-1.62   0.006]\n",
      "\n",
      "------[---- 3 ----]------\n",
      "  i  =  0\n",
      "  x  =  [-0.0081  0.003 ]\n",
      "f(x) =  0.09571632195866038\n",
      "grad =  [-0.1458  0.006 ]\n",
      "\n",
      "------[---- 4 ----]------\n",
      "  i  =  1\n",
      "  x  =  [-0.0081    0.002982]\n",
      "f(x) =  0.0005993829681383427\n",
      "grad =  [-0.1458    0.005964]\n",
      "\n",
      "------[---- 5 ----]------\n",
      "  i  =  0\n",
      "  x  =  [-0.000729  0.002982]\n",
      "f(x) =  0.0006149808182083938\n",
      "grad =  [-0.013122  0.005964]\n",
      "сделано  5  шагов\n",
      "answer:\n",
      "0.0 [-0.000729  0.002982]\n",
      "\n",
      "\n",
      "------[---- 1 ----]------\n",
      "  i  =  0\n",
      "  x  =  [-0.01025683  0.3         0.4       ]\n",
      "f(x) =  1.2840274748243967\n",
      "grad =  [-0.00263401  0.77041606  1.02722141]\n",
      "\n",
      "------[---- 2 ----]------\n",
      "  i  =  1\n",
      "  x  =  [-1.02568308e-07  4.30467471e-03  4.00000000e-01]\n",
      "f(x) =  1.2814870561131704\n",
      "grad =  [-2.40734509e-08  1.01033524e-02  9.38826093e-01]\n",
      "\n",
      "------[---- 3 ----]------\n",
      "  i  =  2\n",
      "  x  =  [-1.02568308e-11  4.30467471e-03  4.70032346e-03]\n",
      "f(x) =  1.1694198531839763\n",
      "grad =  [-2.05144949e-12  8.60969917e-03  9.40102882e-03]\n",
      "\n",
      "------[---- 4 ----]------\n",
      "  i  =  0\n",
      "  x  =  [-1.02568308e-15  4.30467471e-03  4.70032346e-03]\n",
      "f(x) =  1.0000406240901925\n",
      "grad =  [-2.05144949e-16  8.60969917e-03  9.40102882e-03]\n",
      "сделано  4  шагов\n",
      "answer:\n",
      "1.0 [-1.02568308e-19  4.30467471e-03  4.70032346e-03]\n"
     ]
    }
   ],
   "source": [
    "x0 = np.array([-1.0, 0.3, 1.])\n",
    "e = 0.01\n",
    "x_min = coord(fx,gradfx, x0, e)\n",
    "print('answer:')\n",
    "print(round(fx(x_min), 3), x_min)\n",
    "\n",
    "x0 = np.array([-1.0, 0.3])\n",
    "e = 0.01\n",
    "x_min = coord(gx,gradgx, x0, e)\n",
    "print('answer:')\n",
    "print(round(gx(x_min), 3), x_min)\n",
    "\n",
    "x0 = np.array([-1.0, 0.3, 0.4])\n",
    "e = 0.01\n",
    "x_min = coord(hx,gradhx, x0, e)\n",
    "print('answer:')\n",
    "print(round(hx(x_min), 3), x_min)"
   ]
  },
  {
   "cell_type": "code",
   "execution_count": null,
   "metadata": {},
   "outputs": [],
   "source": []
  },
  {
   "cell_type": "code",
   "execution_count": null,
   "metadata": {},
   "outputs": [],
   "source": []
  }
 ],
 "metadata": {
  "kernelspec": {
   "display_name": "Python 3",
   "language": "python",
   "name": "python3"
  },
  "language_info": {
   "codemirror_mode": {
    "name": "ipython",
    "version": 3
   },
   "file_extension": ".py",
   "mimetype": "text/x-python",
   "name": "python",
   "nbconvert_exporter": "python",
   "pygments_lexer": "ipython3",
   "version": "3.8.3"
  }
 },
 "nbformat": 4,
 "nbformat_minor": 4
}
